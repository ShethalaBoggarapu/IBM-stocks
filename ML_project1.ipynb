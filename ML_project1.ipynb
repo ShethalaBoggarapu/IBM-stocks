{
  "nbformat": 4,
  "nbformat_minor": 0,
  "metadata": {
    "colab": {
      "provenance": []
    },
    "kernelspec": {
      "name": "python3",
      "display_name": "Python 3"
    },
    "language_info": {
      "name": "python"
    }
  },
  "cells": [
    {
      "cell_type": "markdown",
      "source": [
        "## **IBM Stock**"
      ],
      "metadata": {
        "id": "GW9bnS6mIqaY"
      }
    },
    {
      "cell_type": "markdown",
      "source": [
        "## Importing and installing libraries"
      ],
      "metadata": {
        "id": "sIvfNKK_NdjK"
      }
    },
    {
      "cell_type": "code",
      "source": [
        "%matplotlib inline\n",
        "import pandas as pd\n",
        "#!pip install mplfinance\n",
        "import mplfinance as mpf\n",
        "import numpy as np"
      ],
      "metadata": {
        "id": "Hg7aarMUu_0V"
      },
      "execution_count": null,
      "outputs": []
    },
    {
      "cell_type": "code",
      "execution_count": null,
      "metadata": {
        "colab": {
          "base_uri": "https://localhost:8080/"
        },
        "id": "XUV8mZ3TPZDX",
        "outputId": "eff291a5-977f-4f28-a417-d07cad5de0a1"
      },
      "outputs": [
        {
          "output_type": "stream",
          "name": "stdout",
          "text": [
            "Looking in indexes: https://pypi.org/simple, https://us-python.pkg.dev/colab-wheels/public/simple/\n",
            "Requirement already satisfied: yfinance in /usr/local/lib/python3.7/dist-packages (0.1.77)\n",
            "Requirement already satisfied: appdirs>=1.4.4 in /usr/local/lib/python3.7/dist-packages (from yfinance) (1.4.4)\n",
            "Requirement already satisfied: requests>=2.26 in /usr/local/lib/python3.7/dist-packages (from yfinance) (2.28.1)\n",
            "Requirement already satisfied: numpy>=1.15 in /usr/local/lib/python3.7/dist-packages (from yfinance) (1.21.6)\n",
            "Requirement already satisfied: lxml>=4.5.1 in /usr/local/lib/python3.7/dist-packages (from yfinance) (4.9.1)\n",
            "Requirement already satisfied: multitasking>=0.0.7 in /usr/local/lib/python3.7/dist-packages (from yfinance) (0.0.11)\n",
            "Requirement already satisfied: pandas>=0.24.0 in /usr/local/lib/python3.7/dist-packages (from yfinance) (1.3.5)\n",
            "Requirement already satisfied: python-dateutil>=2.7.3 in /usr/local/lib/python3.7/dist-packages (from pandas>=0.24.0->yfinance) (2.8.2)\n",
            "Requirement already satisfied: pytz>=2017.3 in /usr/local/lib/python3.7/dist-packages (from pandas>=0.24.0->yfinance) (2022.4)\n",
            "Requirement already satisfied: six>=1.5 in /usr/local/lib/python3.7/dist-packages (from python-dateutil>=2.7.3->pandas>=0.24.0->yfinance) (1.15.0)\n",
            "Requirement already satisfied: idna<4,>=2.5 in /usr/local/lib/python3.7/dist-packages (from requests>=2.26->yfinance) (2.10)\n",
            "Requirement already satisfied: urllib3<1.27,>=1.21.1 in /usr/local/lib/python3.7/dist-packages (from requests>=2.26->yfinance) (1.24.3)\n",
            "Requirement already satisfied: certifi>=2017.4.17 in /usr/local/lib/python3.7/dist-packages (from requests>=2.26->yfinance) (2022.9.24)\n",
            "Requirement already satisfied: charset-normalizer<3,>=2 in /usr/local/lib/python3.7/dist-packages (from requests>=2.26->yfinance) (2.1.1)\n",
            "[*********************100%***********************]  1 of 1 completed\n"
          ]
        }
      ],
      "source": [
        "#installing yfinance\n",
        "!pip install yfinance\n",
        "#importing dataset\n",
        "import yfinance as yf\n",
        "#reading the data\n",
        "ibm_data = yf.download(\"IBM\", start=\"2015-01-01\", end=\"2021-12-31\")"
      ]
    },
    {
      "cell_type": "markdown",
      "source": [
        "### About data"
      ],
      "metadata": {
        "id": "hv0QwG4_NmWQ"
      }
    },
    {
      "cell_type": "code",
      "source": [
        "ibm_data"
      ],
      "metadata": {
        "colab": {
          "base_uri": "https://localhost:8080/",
          "height": 455
        },
        "id": "GxtYuZdJRrfW",
        "outputId": "0d7741e9-571e-4423-df69-3f7a05c4cd2c"
      },
      "execution_count": null,
      "outputs": [
        {
          "output_type": "execute_result",
          "data": {
            "text/plain": [
              "                                 Open        High         Low       Close  \\\n",
              "Date                                                                        \n",
              "2015-01-02 00:00:00-05:00  154.216064  156.128113  153.919693  154.933075   \n",
              "2015-01-05 00:00:00-05:00  154.177826  154.177826  152.189301  152.495224   \n",
              "2015-01-06 00:00:00-05:00  152.648178  152.925430  148.346085  149.206497   \n",
              "2015-01-07 00:00:00-05:00  150.286804  150.286804  147.256210  148.231354   \n",
              "2015-01-08 00:00:00-05:00  149.369019  152.045883  148.709366  151.453156   \n",
              "...                               ...         ...         ...         ...   \n",
              "2021-12-23 00:00:00-05:00  130.000000  130.960007  129.520004  130.630005   \n",
              "2021-12-27 00:00:00-05:00  130.630005  131.649994  129.949997  131.619995   \n",
              "2021-12-28 00:00:00-05:00  131.600006  133.220001  131.589996  132.630005   \n",
              "2021-12-29 00:00:00-05:00  132.399994  134.210007  132.300003  133.350006   \n",
              "2021-12-30 00:00:00-05:00  133.750000  134.369995  133.330002  133.910004   \n",
              "\n",
              "                            Adj Close   Volume  \n",
              "Date                                            \n",
              "2015-01-02 00:00:00-05:00  110.782326  5779673  \n",
              "2015-01-05 00:00:00-05:00  109.039162  5104898  \n",
              "2015-01-06 00:00:00-05:00  106.687622  6429448  \n",
              "2015-01-07 00:00:00-05:00  105.990318  4918083  \n",
              "2015-01-08 00:00:00-05:00  108.294060  4431693  \n",
              "...                               ...      ...  \n",
              "2021-12-23 00:00:00-05:00  125.941460  3649000  \n",
              "2021-12-27 00:00:00-05:00  126.895920  4293900  \n",
              "2021-12-28 00:00:00-05:00  127.869675  3445200  \n",
              "2021-12-29 00:00:00-05:00  128.563843  4239900  \n",
              "2021-12-30 00:00:00-05:00  129.103729  3158100  \n",
              "\n",
              "[1762 rows x 6 columns]"
            ],
            "text/html": [
              "\n",
              "  <div id=\"df-db2f73f8-62e0-4104-abb8-5c85722e3e24\">\n",
              "    <div class=\"colab-df-container\">\n",
              "      <div>\n",
              "<style scoped>\n",
              "    .dataframe tbody tr th:only-of-type {\n",
              "        vertical-align: middle;\n",
              "    }\n",
              "\n",
              "    .dataframe tbody tr th {\n",
              "        vertical-align: top;\n",
              "    }\n",
              "\n",
              "    .dataframe thead th {\n",
              "        text-align: right;\n",
              "    }\n",
              "</style>\n",
              "<table border=\"1\" class=\"dataframe\">\n",
              "  <thead>\n",
              "    <tr style=\"text-align: right;\">\n",
              "      <th></th>\n",
              "      <th>Open</th>\n",
              "      <th>High</th>\n",
              "      <th>Low</th>\n",
              "      <th>Close</th>\n",
              "      <th>Adj Close</th>\n",
              "      <th>Volume</th>\n",
              "    </tr>\n",
              "    <tr>\n",
              "      <th>Date</th>\n",
              "      <th></th>\n",
              "      <th></th>\n",
              "      <th></th>\n",
              "      <th></th>\n",
              "      <th></th>\n",
              "      <th></th>\n",
              "    </tr>\n",
              "  </thead>\n",
              "  <tbody>\n",
              "    <tr>\n",
              "      <th>2015-01-02 00:00:00-05:00</th>\n",
              "      <td>154.216064</td>\n",
              "      <td>156.128113</td>\n",
              "      <td>153.919693</td>\n",
              "      <td>154.933075</td>\n",
              "      <td>110.782326</td>\n",
              "      <td>5779673</td>\n",
              "    </tr>\n",
              "    <tr>\n",
              "      <th>2015-01-05 00:00:00-05:00</th>\n",
              "      <td>154.177826</td>\n",
              "      <td>154.177826</td>\n",
              "      <td>152.189301</td>\n",
              "      <td>152.495224</td>\n",
              "      <td>109.039162</td>\n",
              "      <td>5104898</td>\n",
              "    </tr>\n",
              "    <tr>\n",
              "      <th>2015-01-06 00:00:00-05:00</th>\n",
              "      <td>152.648178</td>\n",
              "      <td>152.925430</td>\n",
              "      <td>148.346085</td>\n",
              "      <td>149.206497</td>\n",
              "      <td>106.687622</td>\n",
              "      <td>6429448</td>\n",
              "    </tr>\n",
              "    <tr>\n",
              "      <th>2015-01-07 00:00:00-05:00</th>\n",
              "      <td>150.286804</td>\n",
              "      <td>150.286804</td>\n",
              "      <td>147.256210</td>\n",
              "      <td>148.231354</td>\n",
              "      <td>105.990318</td>\n",
              "      <td>4918083</td>\n",
              "    </tr>\n",
              "    <tr>\n",
              "      <th>2015-01-08 00:00:00-05:00</th>\n",
              "      <td>149.369019</td>\n",
              "      <td>152.045883</td>\n",
              "      <td>148.709366</td>\n",
              "      <td>151.453156</td>\n",
              "      <td>108.294060</td>\n",
              "      <td>4431693</td>\n",
              "    </tr>\n",
              "    <tr>\n",
              "      <th>...</th>\n",
              "      <td>...</td>\n",
              "      <td>...</td>\n",
              "      <td>...</td>\n",
              "      <td>...</td>\n",
              "      <td>...</td>\n",
              "      <td>...</td>\n",
              "    </tr>\n",
              "    <tr>\n",
              "      <th>2021-12-23 00:00:00-05:00</th>\n",
              "      <td>130.000000</td>\n",
              "      <td>130.960007</td>\n",
              "      <td>129.520004</td>\n",
              "      <td>130.630005</td>\n",
              "      <td>125.941460</td>\n",
              "      <td>3649000</td>\n",
              "    </tr>\n",
              "    <tr>\n",
              "      <th>2021-12-27 00:00:00-05:00</th>\n",
              "      <td>130.630005</td>\n",
              "      <td>131.649994</td>\n",
              "      <td>129.949997</td>\n",
              "      <td>131.619995</td>\n",
              "      <td>126.895920</td>\n",
              "      <td>4293900</td>\n",
              "    </tr>\n",
              "    <tr>\n",
              "      <th>2021-12-28 00:00:00-05:00</th>\n",
              "      <td>131.600006</td>\n",
              "      <td>133.220001</td>\n",
              "      <td>131.589996</td>\n",
              "      <td>132.630005</td>\n",
              "      <td>127.869675</td>\n",
              "      <td>3445200</td>\n",
              "    </tr>\n",
              "    <tr>\n",
              "      <th>2021-12-29 00:00:00-05:00</th>\n",
              "      <td>132.399994</td>\n",
              "      <td>134.210007</td>\n",
              "      <td>132.300003</td>\n",
              "      <td>133.350006</td>\n",
              "      <td>128.563843</td>\n",
              "      <td>4239900</td>\n",
              "    </tr>\n",
              "    <tr>\n",
              "      <th>2021-12-30 00:00:00-05:00</th>\n",
              "      <td>133.750000</td>\n",
              "      <td>134.369995</td>\n",
              "      <td>133.330002</td>\n",
              "      <td>133.910004</td>\n",
              "      <td>129.103729</td>\n",
              "      <td>3158100</td>\n",
              "    </tr>\n",
              "  </tbody>\n",
              "</table>\n",
              "<p>1762 rows × 6 columns</p>\n",
              "</div>\n",
              "      <button class=\"colab-df-convert\" onclick=\"convertToInteractive('df-db2f73f8-62e0-4104-abb8-5c85722e3e24')\"\n",
              "              title=\"Convert this dataframe to an interactive table.\"\n",
              "              style=\"display:none;\">\n",
              "        \n",
              "  <svg xmlns=\"http://www.w3.org/2000/svg\" height=\"24px\"viewBox=\"0 0 24 24\"\n",
              "       width=\"24px\">\n",
              "    <path d=\"M0 0h24v24H0V0z\" fill=\"none\"/>\n",
              "    <path d=\"M18.56 5.44l.94 2.06.94-2.06 2.06-.94-2.06-.94-.94-2.06-.94 2.06-2.06.94zm-11 1L8.5 8.5l.94-2.06 2.06-.94-2.06-.94L8.5 2.5l-.94 2.06-2.06.94zm10 10l.94 2.06.94-2.06 2.06-.94-2.06-.94-.94-2.06-.94 2.06-2.06.94z\"/><path d=\"M17.41 7.96l-1.37-1.37c-.4-.4-.92-.59-1.43-.59-.52 0-1.04.2-1.43.59L10.3 9.45l-7.72 7.72c-.78.78-.78 2.05 0 2.83L4 21.41c.39.39.9.59 1.41.59.51 0 1.02-.2 1.41-.59l7.78-7.78 2.81-2.81c.8-.78.8-2.07 0-2.86zM5.41 20L4 18.59l7.72-7.72 1.47 1.35L5.41 20z\"/>\n",
              "  </svg>\n",
              "      </button>\n",
              "      \n",
              "  <style>\n",
              "    .colab-df-container {\n",
              "      display:flex;\n",
              "      flex-wrap:wrap;\n",
              "      gap: 12px;\n",
              "    }\n",
              "\n",
              "    .colab-df-convert {\n",
              "      background-color: #E8F0FE;\n",
              "      border: none;\n",
              "      border-radius: 50%;\n",
              "      cursor: pointer;\n",
              "      display: none;\n",
              "      fill: #1967D2;\n",
              "      height: 32px;\n",
              "      padding: 0 0 0 0;\n",
              "      width: 32px;\n",
              "    }\n",
              "\n",
              "    .colab-df-convert:hover {\n",
              "      background-color: #E2EBFA;\n",
              "      box-shadow: 0px 1px 2px rgba(60, 64, 67, 0.3), 0px 1px 3px 1px rgba(60, 64, 67, 0.15);\n",
              "      fill: #174EA6;\n",
              "    }\n",
              "\n",
              "    [theme=dark] .colab-df-convert {\n",
              "      background-color: #3B4455;\n",
              "      fill: #D2E3FC;\n",
              "    }\n",
              "\n",
              "    [theme=dark] .colab-df-convert:hover {\n",
              "      background-color: #434B5C;\n",
              "      box-shadow: 0px 1px 3px 1px rgba(0, 0, 0, 0.15);\n",
              "      filter: drop-shadow(0px 1px 2px rgba(0, 0, 0, 0.3));\n",
              "      fill: #FFFFFF;\n",
              "    }\n",
              "  </style>\n",
              "\n",
              "      <script>\n",
              "        const buttonEl =\n",
              "          document.querySelector('#df-db2f73f8-62e0-4104-abb8-5c85722e3e24 button.colab-df-convert');\n",
              "        buttonEl.style.display =\n",
              "          google.colab.kernel.accessAllowed ? 'block' : 'none';\n",
              "\n",
              "        async function convertToInteractive(key) {\n",
              "          const element = document.querySelector('#df-db2f73f8-62e0-4104-abb8-5c85722e3e24');\n",
              "          const dataTable =\n",
              "            await google.colab.kernel.invokeFunction('convertToInteractive',\n",
              "                                                     [key], {});\n",
              "          if (!dataTable) return;\n",
              "\n",
              "          const docLinkHtml = 'Like what you see? Visit the ' +\n",
              "            '<a target=\"_blank\" href=https://colab.research.google.com/notebooks/data_table.ipynb>data table notebook</a>'\n",
              "            + ' to learn more about interactive tables.';\n",
              "          element.innerHTML = '';\n",
              "          dataTable['output_type'] = 'display_data';\n",
              "          await google.colab.output.renderOutput(dataTable, element);\n",
              "          const docLink = document.createElement('div');\n",
              "          docLink.innerHTML = docLinkHtml;\n",
              "          element.appendChild(docLink);\n",
              "        }\n",
              "      </script>\n",
              "    </div>\n",
              "  </div>\n",
              "  "
            ]
          },
          "metadata": {},
          "execution_count": 78
        }
      ]
    },
    {
      "cell_type": "markdown",
      "source": [
        "* Closing price merely refers to the cost of shares at the end of the day, the adjusted closing price considers other factors like dividends, stock splits, and new stock offerings. Adjusted close price with closing price ends."
      ],
      "metadata": {
        "id": "hMO2m5tRXvb_"
      }
    },
    {
      "cell_type": "code",
      "source": [
        "print(f'Dataframe contains stock prices between {ibm_data.index.min()} {ibm_data.index.max()}')\n",
        "print(f'Total Days={(ibm_data.index.max()-ibm_data.index.min()).days} days')"
      ],
      "metadata": {
        "colab": {
          "base_uri": "https://localhost:8080/"
        },
        "id": "UpisfCtRYzBz",
        "outputId": "53e7b779-43ea-4846-fc05-2445c1d571cd"
      },
      "execution_count": null,
      "outputs": [
        {
          "output_type": "stream",
          "name": "stdout",
          "text": [
            "Dataframe contains stock prices between 2015-01-02 00:00:00-05:00 2021-12-30 00:00:00-05:00\n",
            "Total Days=2554 days\n"
          ]
        }
      ]
    },
    {
      "cell_type": "code",
      "source": [
        "ibm_data.info()"
      ],
      "metadata": {
        "colab": {
          "base_uri": "https://localhost:8080/"
        },
        "id": "E9nxod69SHSo",
        "outputId": "cbddf8f6-5045-47fb-ecef-274f0cac9ad9"
      },
      "execution_count": null,
      "outputs": [
        {
          "output_type": "stream",
          "name": "stdout",
          "text": [
            "<class 'pandas.core.frame.DataFrame'>\n",
            "DatetimeIndex: 1762 entries, 2015-01-02 00:00:00-05:00 to 2021-12-30 00:00:00-05:00\n",
            "Data columns (total 6 columns):\n",
            " #   Column     Non-Null Count  Dtype  \n",
            "---  ------     --------------  -----  \n",
            " 0   Open       1762 non-null   float64\n",
            " 1   High       1762 non-null   float64\n",
            " 2   Low        1762 non-null   float64\n",
            " 3   Close      1762 non-null   float64\n",
            " 4   Adj Close  1762 non-null   float64\n",
            " 5   Volume     1762 non-null   int64  \n",
            "dtypes: float64(5), int64(1)\n",
            "memory usage: 96.4 KB\n"
          ]
        }
      ]
    },
    {
      "cell_type": "markdown",
      "source": [
        "* All the features are in integers format."
      ],
      "metadata": {
        "id": "eP67K_EnOEOX"
      }
    },
    {
      "cell_type": "code",
      "source": [
        "ibm_data.index"
      ],
      "metadata": {
        "colab": {
          "base_uri": "https://localhost:8080/"
        },
        "id": "hQHRvKTASLoz",
        "outputId": "e4241eda-3b25-42fc-9408-4aa65091e44c"
      },
      "execution_count": null,
      "outputs": [
        {
          "output_type": "execute_result",
          "data": {
            "text/plain": [
              "DatetimeIndex(['2015-01-02 00:00:00-05:00', '2015-01-05 00:00:00-05:00',\n",
              "               '2015-01-06 00:00:00-05:00', '2015-01-07 00:00:00-05:00',\n",
              "               '2015-01-08 00:00:00-05:00', '2015-01-09 00:00:00-05:00',\n",
              "               '2015-01-12 00:00:00-05:00', '2015-01-13 00:00:00-05:00',\n",
              "               '2015-01-14 00:00:00-05:00', '2015-01-15 00:00:00-05:00',\n",
              "               ...\n",
              "               '2021-12-16 00:00:00-05:00', '2021-12-17 00:00:00-05:00',\n",
              "               '2021-12-20 00:00:00-05:00', '2021-12-21 00:00:00-05:00',\n",
              "               '2021-12-22 00:00:00-05:00', '2021-12-23 00:00:00-05:00',\n",
              "               '2021-12-27 00:00:00-05:00', '2021-12-28 00:00:00-05:00',\n",
              "               '2021-12-29 00:00:00-05:00', '2021-12-30 00:00:00-05:00'],\n",
              "              dtype='datetime64[ns, America/New_York]', name='Date', length=1762, freq=None)"
            ]
          },
          "metadata": {},
          "execution_count": 81
        }
      ]
    },
    {
      "cell_type": "markdown",
      "source": [
        "* We can see that date is the index"
      ],
      "metadata": {
        "id": "ASOAQXTbN0Ix"
      }
    },
    {
      "cell_type": "code",
      "source": [
        "ibm_data.describe()"
      ],
      "metadata": {
        "colab": {
          "base_uri": "https://localhost:8080/",
          "height": 300
        },
        "id": "aPxezCuqreT-",
        "outputId": "4901bf51-4571-4cf5-be17-7fab9d321d99"
      },
      "execution_count": null,
      "outputs": [
        {
          "output_type": "execute_result",
          "data": {
            "text/plain": [
              "              Open         High          Low        Close    Adj Close  \\\n",
              "count  1762.000000  1762.000000  1762.000000  1762.000000  1762.000000   \n",
              "mean    137.061695   138.134445   135.983931   137.058281   112.199907   \n",
              "std      14.925635    14.786556    15.033781    14.916494     9.642688   \n",
              "min      90.439774    93.441681    86.577438    90.602295    79.847000   \n",
              "25%     127.442638   128.415386   126.326483   127.335085   107.083138   \n",
              "50%     137.318359   138.283936   136.276291   137.294456   112.194012   \n",
              "75%     147.265770   148.114246   146.309753   147.222759   117.362789   \n",
              "max     173.996170   174.751434   172.963669   173.948380   136.033951   \n",
              "\n",
              "             Volume  \n",
              "count  1.762000e+03  \n",
              "mean   4.899188e+06  \n",
              "std    2.925637e+06  \n",
              "min    1.247878e+06  \n",
              "25%    3.311218e+06  \n",
              "50%    4.160988e+06  \n",
              "75%    5.456119e+06  \n",
              "max    3.981442e+07  "
            ],
            "text/html": [
              "\n",
              "  <div id=\"df-1df007d1-788b-4d2b-ab61-7df382b2b567\">\n",
              "    <div class=\"colab-df-container\">\n",
              "      <div>\n",
              "<style scoped>\n",
              "    .dataframe tbody tr th:only-of-type {\n",
              "        vertical-align: middle;\n",
              "    }\n",
              "\n",
              "    .dataframe tbody tr th {\n",
              "        vertical-align: top;\n",
              "    }\n",
              "\n",
              "    .dataframe thead th {\n",
              "        text-align: right;\n",
              "    }\n",
              "</style>\n",
              "<table border=\"1\" class=\"dataframe\">\n",
              "  <thead>\n",
              "    <tr style=\"text-align: right;\">\n",
              "      <th></th>\n",
              "      <th>Open</th>\n",
              "      <th>High</th>\n",
              "      <th>Low</th>\n",
              "      <th>Close</th>\n",
              "      <th>Adj Close</th>\n",
              "      <th>Volume</th>\n",
              "    </tr>\n",
              "  </thead>\n",
              "  <tbody>\n",
              "    <tr>\n",
              "      <th>count</th>\n",
              "      <td>1762.000000</td>\n",
              "      <td>1762.000000</td>\n",
              "      <td>1762.000000</td>\n",
              "      <td>1762.000000</td>\n",
              "      <td>1762.000000</td>\n",
              "      <td>1.762000e+03</td>\n",
              "    </tr>\n",
              "    <tr>\n",
              "      <th>mean</th>\n",
              "      <td>137.061695</td>\n",
              "      <td>138.134445</td>\n",
              "      <td>135.983931</td>\n",
              "      <td>137.058281</td>\n",
              "      <td>112.199907</td>\n",
              "      <td>4.899188e+06</td>\n",
              "    </tr>\n",
              "    <tr>\n",
              "      <th>std</th>\n",
              "      <td>14.925635</td>\n",
              "      <td>14.786556</td>\n",
              "      <td>15.033781</td>\n",
              "      <td>14.916494</td>\n",
              "      <td>9.642688</td>\n",
              "      <td>2.925637e+06</td>\n",
              "    </tr>\n",
              "    <tr>\n",
              "      <th>min</th>\n",
              "      <td>90.439774</td>\n",
              "      <td>93.441681</td>\n",
              "      <td>86.577438</td>\n",
              "      <td>90.602295</td>\n",
              "      <td>79.847000</td>\n",
              "      <td>1.247878e+06</td>\n",
              "    </tr>\n",
              "    <tr>\n",
              "      <th>25%</th>\n",
              "      <td>127.442638</td>\n",
              "      <td>128.415386</td>\n",
              "      <td>126.326483</td>\n",
              "      <td>127.335085</td>\n",
              "      <td>107.083138</td>\n",
              "      <td>3.311218e+06</td>\n",
              "    </tr>\n",
              "    <tr>\n",
              "      <th>50%</th>\n",
              "      <td>137.318359</td>\n",
              "      <td>138.283936</td>\n",
              "      <td>136.276291</td>\n",
              "      <td>137.294456</td>\n",
              "      <td>112.194012</td>\n",
              "      <td>4.160988e+06</td>\n",
              "    </tr>\n",
              "    <tr>\n",
              "      <th>75%</th>\n",
              "      <td>147.265770</td>\n",
              "      <td>148.114246</td>\n",
              "      <td>146.309753</td>\n",
              "      <td>147.222759</td>\n",
              "      <td>117.362789</td>\n",
              "      <td>5.456119e+06</td>\n",
              "    </tr>\n",
              "    <tr>\n",
              "      <th>max</th>\n",
              "      <td>173.996170</td>\n",
              "      <td>174.751434</td>\n",
              "      <td>172.963669</td>\n",
              "      <td>173.948380</td>\n",
              "      <td>136.033951</td>\n",
              "      <td>3.981442e+07</td>\n",
              "    </tr>\n",
              "  </tbody>\n",
              "</table>\n",
              "</div>\n",
              "      <button class=\"colab-df-convert\" onclick=\"convertToInteractive('df-1df007d1-788b-4d2b-ab61-7df382b2b567')\"\n",
              "              title=\"Convert this dataframe to an interactive table.\"\n",
              "              style=\"display:none;\">\n",
              "        \n",
              "  <svg xmlns=\"http://www.w3.org/2000/svg\" height=\"24px\"viewBox=\"0 0 24 24\"\n",
              "       width=\"24px\">\n",
              "    <path d=\"M0 0h24v24H0V0z\" fill=\"none\"/>\n",
              "    <path d=\"M18.56 5.44l.94 2.06.94-2.06 2.06-.94-2.06-.94-.94-2.06-.94 2.06-2.06.94zm-11 1L8.5 8.5l.94-2.06 2.06-.94-2.06-.94L8.5 2.5l-.94 2.06-2.06.94zm10 10l.94 2.06.94-2.06 2.06-.94-2.06-.94-.94-2.06-.94 2.06-2.06.94z\"/><path d=\"M17.41 7.96l-1.37-1.37c-.4-.4-.92-.59-1.43-.59-.52 0-1.04.2-1.43.59L10.3 9.45l-7.72 7.72c-.78.78-.78 2.05 0 2.83L4 21.41c.39.39.9.59 1.41.59.51 0 1.02-.2 1.41-.59l7.78-7.78 2.81-2.81c.8-.78.8-2.07 0-2.86zM5.41 20L4 18.59l7.72-7.72 1.47 1.35L5.41 20z\"/>\n",
              "  </svg>\n",
              "      </button>\n",
              "      \n",
              "  <style>\n",
              "    .colab-df-container {\n",
              "      display:flex;\n",
              "      flex-wrap:wrap;\n",
              "      gap: 12px;\n",
              "    }\n",
              "\n",
              "    .colab-df-convert {\n",
              "      background-color: #E8F0FE;\n",
              "      border: none;\n",
              "      border-radius: 50%;\n",
              "      cursor: pointer;\n",
              "      display: none;\n",
              "      fill: #1967D2;\n",
              "      height: 32px;\n",
              "      padding: 0 0 0 0;\n",
              "      width: 32px;\n",
              "    }\n",
              "\n",
              "    .colab-df-convert:hover {\n",
              "      background-color: #E2EBFA;\n",
              "      box-shadow: 0px 1px 2px rgba(60, 64, 67, 0.3), 0px 1px 3px 1px rgba(60, 64, 67, 0.15);\n",
              "      fill: #174EA6;\n",
              "    }\n",
              "\n",
              "    [theme=dark] .colab-df-convert {\n",
              "      background-color: #3B4455;\n",
              "      fill: #D2E3FC;\n",
              "    }\n",
              "\n",
              "    [theme=dark] .colab-df-convert:hover {\n",
              "      background-color: #434B5C;\n",
              "      box-shadow: 0px 1px 3px 1px rgba(0, 0, 0, 0.15);\n",
              "      filter: drop-shadow(0px 1px 2px rgba(0, 0, 0, 0.3));\n",
              "      fill: #FFFFFF;\n",
              "    }\n",
              "  </style>\n",
              "\n",
              "      <script>\n",
              "        const buttonEl =\n",
              "          document.querySelector('#df-1df007d1-788b-4d2b-ab61-7df382b2b567 button.colab-df-convert');\n",
              "        buttonEl.style.display =\n",
              "          google.colab.kernel.accessAllowed ? 'block' : 'none';\n",
              "\n",
              "        async function convertToInteractive(key) {\n",
              "          const element = document.querySelector('#df-1df007d1-788b-4d2b-ab61-7df382b2b567');\n",
              "          const dataTable =\n",
              "            await google.colab.kernel.invokeFunction('convertToInteractive',\n",
              "                                                     [key], {});\n",
              "          if (!dataTable) return;\n",
              "\n",
              "          const docLinkHtml = 'Like what you see? Visit the ' +\n",
              "            '<a target=\"_blank\" href=https://colab.research.google.com/notebooks/data_table.ipynb>data table notebook</a>'\n",
              "            + ' to learn more about interactive tables.';\n",
              "          element.innerHTML = '';\n",
              "          dataTable['output_type'] = 'display_data';\n",
              "          await google.colab.output.renderOutput(dataTable, element);\n",
              "          const docLink = document.createElement('div');\n",
              "          docLink.innerHTML = docLinkHtml;\n",
              "          element.appendChild(docLink);\n",
              "        }\n",
              "      </script>\n",
              "    </div>\n",
              "  </div>\n",
              "  "
            ]
          },
          "metadata": {},
          "execution_count": 82
        }
      ]
    },
    {
      "cell_type": "markdown",
      "source": [
        "* Here we can see that the min of closing price is 79.8 and max is 136\n"
      ],
      "metadata": {
        "id": "w4-q88QSOds7"
      }
    },
    {
      "cell_type": "markdown",
      "source": [
        "## Data Cleaning"
      ],
      "metadata": {
        "id": "QOdll-RCYPui"
      }
    },
    {
      "cell_type": "code",
      "source": [
        "import seaborn as sns\n",
        "sns.heatmap(ibm_data.isnull(),yticklabels=False,cbar=False,cmap='viridis')"
      ],
      "metadata": {
        "colab": {
          "base_uri": "https://localhost:8080/",
          "height": 282
        },
        "id": "C-HC2379sd2j",
        "outputId": "6c723f44-95db-477c-c9dd-a3c9500e585a"
      },
      "execution_count": null,
      "outputs": [
        {
          "output_type": "execute_result",
          "data": {
            "text/plain": [
              "<matplotlib.axes._subplots.AxesSubplot at 0x7f92efa89a50>"
            ]
          },
          "metadata": {},
          "execution_count": 83
        },
        {
          "output_type": "display_data",
          "data": {
            "text/plain": [
              "<Figure size 432x288 with 1 Axes>"
            ],
            "image/png": "[encoded data removed]"
          },
          "metadata": {
            "needs_background": "light"
          }
        }
      ]
    },
    {
      "cell_type": "code",
      "source": [
        "ibm_data.isnull().sum()"
      ],
      "metadata": {
        "colab": {
          "base_uri": "https://localhost:8080/"
        },
        "id": "Hf2xZQOIsp_Y",
        "outputId": "ff1d0d3b-7e7f-43c1-8af3-413b4ab3a385"
      },
      "execution_count": null,
      "outputs": [
        {
          "output_type": "execute_result",
          "data": {
            "text/plain": [
              "Open         0\n",
              "High         0\n",
              "Low          0\n",
              "Close        0\n",
              "Adj Close    0\n",
              "Volume       0\n",
              "dtype: int64"
            ]
          },
          "metadata": {},
          "execution_count": 84
        }
      ]
    },
    {
      "cell_type": "markdown",
      "source": [
        "* There are no null values"
      ],
      "metadata": {
        "id": "0judb0ZqYX50"
      }
    },
    {
      "cell_type": "markdown",
      "source": [
        "## Visualization"
      ],
      "metadata": {
        "id": "2gOtpLXDcJNa"
      }
    },
    {
      "cell_type": "code",
      "source": [
        "mpf.plot(ibm_data,type='line',volume=True)"
      ],
      "metadata": {
        "colab": {
          "base_uri": "https://localhost:8080/",
          "height": 523
        },
        "id": "JKql8ju1tfzW",
        "outputId": "5685ae4e-c1a2-4bb3-ee7b-b6946ed5f4be"
      },
      "execution_count": null,
      "outputs": [
        {
          "output_type": "display_data",
          "data": {
            "text/plain": [
              "<Figure size 800x575 with 4 Axes>"
            ],
            "image/png": "[encoded data removed]"
          },
          "metadata": {}
        }
      ]
    },
    {
      "cell_type": "code",
      "source": [
        "mpf.plot(ibm_data,type='candle',style='yahoo',mav=(50),volume=True,tight_layout=True)"
      ],
      "metadata": {
        "id": "YmYbkk00xI1s",
        "colab": {
          "base_uri": "https://localhost:8080/",
          "height": 877
        },
        "outputId": "56ed6102-602e-4db9-f80b-9fec4a7f1c0a"
      },
      "execution_count": null,
      "outputs": [
        {
          "output_type": "stream",
          "name": "stderr",
          "text": [
            "/usr/local/lib/python3.7/dist-packages/mplfinance/_arg_validators.py:46: UserWarning: \n",
            "\n",
            " ================================================================= \n",
            "\n",
            "   WARNING: YOU ARE PLOTTING SO MUCH DATA THAT IT MAY NOT BE\n",
            "            POSSIBLE TO SEE DETAILS (Candles, Ohlc-Bars, Etc.)\n",
            "   For more information see:\n",
            "   - https://github.com/matplotlib/mplfinance/wiki/Plotting-Too-Much-Data\n",
            "   \n",
            "   TO SILENCE THIS WARNING, set `type='line'` in `mpf.plot()`\n",
            "   OR set kwarg `warn_too_much_data=N` where N is an integer \n",
            "   LARGER than the number of data points you want to plot.\n",
            "\n",
            " ================================================================ \n",
            "  category=UserWarning)\n"
          ]
        },
        {
          "output_type": "display_data",
          "data": {
            "text/plain": [
              "<Figure size 800x575 with 4 Axes>"
            ],
            "image/png": "[encoded data removed]"
          },
          "metadata": {}
        }
      ]
    },
    {
      "cell_type": "markdown",
      "source": [
        "* The above graph is with moving average of 50"
      ],
      "metadata": {
        "id": "m-n7IycwcQEi"
      }
    },
    {
      "cell_type": "code",
      "source": [
        "mpf.plot(ibm_data['2019-03':'2020-03'],type='candle',style='yahoo',mav=(50),volume=True,tight_layout=True)"
      ],
      "metadata": {
        "colab": {
          "base_uri": "https://localhost:8080/",
          "height": 617
        },
        "id": "g4PGsB3tK20v",
        "outputId": "5f91d5e1-8a90-4ccc-d423-388de995cc96"
      },
      "execution_count": null,
      "outputs": [
        {
          "output_type": "display_data",
          "data": {
            "text/plain": [
              "<Figure size 800x575 with 4 Axes>"
            ],
            "image/png": "[encoded data removed]"
          },
          "metadata": {}
        }
      ]
    },
    {
      "cell_type": "code",
      "source": [
        "mpf.plot(ibm_data['2020-03':'2020-07'],type='candle',style='yahoo',mav=(50),volume=True,tight_layout=True)"
      ],
      "metadata": {
        "colab": {
          "base_uri": "https://localhost:8080/",
          "height": 589
        },
        "id": "MypEeP0wJup1",
        "outputId": "74ba7008-e41a-4a8a-cfb3-87e502e9a19e"
      },
      "execution_count": null,
      "outputs": [
        {
          "output_type": "display_data",
          "data": {
            "text/plain": [
              "<Figure size 800x575 with 4 Axes>"
            ],
            "image/png": "[encoded data removed]"
          },
          "metadata": {}
        }
      ]
    },
    {
      "cell_type": "markdown",
      "source": [
        "* As we can see there is sudden drop in 2020 march which might be due to covid\n",
        "* 2015 might be caused due to the strategic acquisitions and partnerships that IBM (IBM) undertook to revive positive sentiment. However, the company’s recent fiscal 3Q15 results marked its 14th straight quarter of falling revenue. As a result, IBM’s stock fell significantly in 2015.\n",
        "* The divestiture of IBM’s Intel-based (INTC) x86 server to Lenovo (LNVGY) also contributed to its falling revenues in 2015."
      ],
      "metadata": {
        "id": "AagTbwwGcYm8"
      }
    },
    {
      "cell_type": "markdown",
      "source": [
        "## Model building (Strategy-1)"
      ],
      "metadata": {
        "id": "hhrNoOeWdw2L"
      }
    },
    {
      "cell_type": "code",
      "source": [
        "x=ibm_data.copy()\n",
        "x.head()"
      ],
      "metadata": {
        "colab": {
          "base_uri": "https://localhost:8080/",
          "height": 238
        },
        "id": "izxp_PHoZb_2",
        "outputId": "f24a6da4-bf8f-4f86-f037-8cb7dc9938d7"
      },
      "execution_count": null,
      "outputs": [
        {
          "output_type": "execute_result",
          "data": {
            "text/plain": [
              "                                 Open        High         Low       Close  \\\n",
              "Date                                                                        \n",
              "2015-01-02 00:00:00-05:00  154.216064  156.128113  153.919693  154.933075   \n",
              "2015-01-05 00:00:00-05:00  154.177826  154.177826  152.189301  152.495224   \n",
              "2015-01-06 00:00:00-05:00  152.648178  152.925430  148.346085  149.206497   \n",
              "2015-01-07 00:00:00-05:00  150.286804  150.286804  147.256210  148.231354   \n",
              "2015-01-08 00:00:00-05:00  149.369019  152.045883  148.709366  151.453156   \n",
              "\n",
              "                            Adj Close   Volume  \n",
              "Date                                            \n",
              "2015-01-02 00:00:00-05:00  110.782326  5779673  \n",
              "2015-01-05 00:00:00-05:00  109.039162  5104898  \n",
              "2015-01-06 00:00:00-05:00  106.687622  6429448  \n",
              "2015-01-07 00:00:00-05:00  105.990318  4918083  \n",
              "2015-01-08 00:00:00-05:00  108.294060  4431693  "
            ],
            "text/html": [
              "\n",
              "  <div id=\"df-6b9a2654-2e8a-481c-92d6-d605d8e5d345\">\n",
              "    <div class=\"colab-df-container\">\n",
              "      <div>\n",
              "<style scoped>\n",
              "    .dataframe tbody tr th:only-of-type {\n",
              "        vertical-align: middle;\n",
              "    }\n",
              "\n",
              "    .dataframe tbody tr th {\n",
              "        vertical-align: top;\n",
              "    }\n",
              "\n",
              "    .dataframe thead th {\n",
              "        text-align: right;\n",
              "    }\n",
              "</style>\n",
              "<table border=\"1\" class=\"dataframe\">\n",
              "  <thead>\n",
              "    <tr style=\"text-align: right;\">\n",
              "      <th></th>\n",
              "      <th>Open</th>\n",
              "      <th>High</th>\n",
              "      <th>Low</th>\n",
              "      <th>Close</th>\n",
              "      <th>Adj Close</th>\n",
              "      <th>Volume</th>\n",
              "    </tr>\n",
              "    <tr>\n",
              "      <th>Date</th>\n",
              "      <th></th>\n",
              "      <th></th>\n",
              "      <th></th>\n",
              "      <th></th>\n",
              "      <th></th>\n",
              "      <th></th>\n",
              "    </tr>\n",
              "  </thead>\n",
              "  <tbody>\n",
              "    <tr>\n",
              "      <th>2015-01-02 00:00:00-05:00</th>\n",
              "      <td>154.216064</td>\n",
              "      <td>156.128113</td>\n",
              "      <td>153.919693</td>\n",
              "      <td>154.933075</td>\n",
              "      <td>110.782326</td>\n",
              "      <td>5779673</td>\n",
              "    </tr>\n",
              "    <tr>\n",
              "      <th>2015-01-05 00:00:00-05:00</th>\n",
              "      <td>154.177826</td>\n",
              "      <td>154.177826</td>\n",
              "      <td>152.189301</td>\n",
              "      <td>152.495224</td>\n",
              "      <td>109.039162</td>\n",
              "      <td>5104898</td>\n",
              "    </tr>\n",
              "    <tr>\n",
              "      <th>2015-01-06 00:00:00-05:00</th>\n",
              "      <td>152.648178</td>\n",
              "      <td>152.925430</td>\n",
              "      <td>148.346085</td>\n",
              "      <td>149.206497</td>\n",
              "      <td>106.687622</td>\n",
              "      <td>6429448</td>\n",
              "    </tr>\n",
              "    <tr>\n",
              "      <th>2015-01-07 00:00:00-05:00</th>\n",
              "      <td>150.286804</td>\n",
              "      <td>150.286804</td>\n",
              "      <td>147.256210</td>\n",
              "      <td>148.231354</td>\n",
              "      <td>105.990318</td>\n",
              "      <td>4918083</td>\n",
              "    </tr>\n",
              "    <tr>\n",
              "      <th>2015-01-08 00:00:00-05:00</th>\n",
              "      <td>149.369019</td>\n",
              "      <td>152.045883</td>\n",
              "      <td>148.709366</td>\n",
              "      <td>151.453156</td>\n",
              "      <td>108.294060</td>\n",
              "      <td>4431693</td>\n",
              "    </tr>\n",
              "  </tbody>\n",
              "</table>\n",
              "</div>\n",
              "      <button class=\"colab-df-convert\" onclick=\"convertToInteractive('df-6b9a2654-2e8a-481c-92d6-d605d8e5d345')\"\n",
              "              title=\"Convert this dataframe to an interactive table.\"\n",
              "              style=\"display:none;\">\n",
              "        \n",
              "  <svg xmlns=\"http://www.w3.org/2000/svg\" height=\"24px\"viewBox=\"0 0 24 24\"\n",
              "       width=\"24px\">\n",
              "    <path d=\"M0 0h24v24H0V0z\" fill=\"none\"/>\n",
              "    <path d=\"M18.56 5.44l.94 2.06.94-2.06 2.06-.94-2.06-.94-.94-2.06-.94 2.06-2.06.94zm-11 1L8.5 8.5l.94-2.06 2.06-.94-2.06-.94L8.5 2.5l-.94 2.06-2.06.94zm10 10l.94 2.06.94-2.06 2.06-.94-2.06-.94-.94-2.06-.94 2.06-2.06.94z\"/><path d=\"M17.41 7.96l-1.37-1.37c-.4-.4-.92-.59-1.43-.59-.52 0-1.04.2-1.43.59L10.3 9.45l-7.72 7.72c-.78.78-.78 2.05 0 2.83L4 21.41c.39.39.9.59 1.41.59.51 0 1.02-.2 1.41-.59l7.78-7.78 2.81-2.81c.8-.78.8-2.07 0-2.86zM5.41 20L4 18.59l7.72-7.72 1.47 1.35L5.41 20z\"/>\n",
              "  </svg>\n",
              "      </button>\n",
              "      \n",
              "  <style>\n",
              "    .colab-df-container {\n",
              "      display:flex;\n",
              "      flex-wrap:wrap;\n",
              "      gap: 12px;\n",
              "    }\n",
              "\n",
              "    .colab-df-convert {\n",
              "      background-color: #E8F0FE;\n",
              "      border: none;\n",
              "      border-radius: 50%;\n",
              "      cursor: pointer;\n",
              "      display: none;\n",
              "      fill: #1967D2;\n",
              "      height: 32px;\n",
              "      padding: 0 0 0 0;\n",
              "      width: 32px;\n",
              "    }\n",
              "\n",
              "    .colab-df-convert:hover {\n",
              "      background-color: #E2EBFA;\n",
              "      box-shadow: 0px 1px 2px rgba(60, 64, 67, 0.3), 0px 1px 3px 1px rgba(60, 64, 67, 0.15);\n",
              "      fill: #174EA6;\n",
              "    }\n",
              "\n",
              "    [theme=dark] .colab-df-convert {\n",
              "      background-color: #3B4455;\n",
              "      fill: #D2E3FC;\n",
              "    }\n",
              "\n",
              "    [theme=dark] .colab-df-convert:hover {\n",
              "      background-color: #434B5C;\n",
              "      box-shadow: 0px 1px 3px 1px rgba(0, 0, 0, 0.15);\n",
              "      filter: drop-shadow(0px 1px 2px rgba(0, 0, 0, 0.3));\n",
              "      fill: #FFFFFF;\n",
              "    }\n",
              "  </style>\n",
              "\n",
              "      <script>\n",
              "        const buttonEl =\n",
              "          document.querySelector('#df-6b9a2654-2e8a-481c-92d6-d605d8e5d345 button.colab-df-convert');\n",
              "        buttonEl.style.display =\n",
              "          google.colab.kernel.accessAllowed ? 'block' : 'none';\n",
              "\n",
              "        async function convertToInteractive(key) {\n",
              "          const element = document.querySelector('#df-6b9a2654-2e8a-481c-92d6-d605d8e5d345');\n",
              "          const dataTable =\n",
              "            await google.colab.kernel.invokeFunction('convertToInteractive',\n",
              "                                                     [key], {});\n",
              "          if (!dataTable) return;\n",
              "\n",
              "          const docLinkHtml = 'Like what you see? Visit the ' +\n",
              "            '<a target=\"_blank\" href=https://colab.research.google.com/notebooks/data_table.ipynb>data table notebook</a>'\n",
              "            + ' to learn more about interactive tables.';\n",
              "          element.innerHTML = '';\n",
              "          dataTable['output_type'] = 'display_data';\n",
              "          await google.colab.output.renderOutput(dataTable, element);\n",
              "          const docLink = document.createElement('div');\n",
              "          docLink.innerHTML = docLinkHtml;\n",
              "          element.appendChild(docLink);\n",
              "        }\n",
              "      </script>\n",
              "    </div>\n",
              "  </div>\n",
              "  "
            ]
          },
          "metadata": {},
          "execution_count": 153
        }
      ]
    },
    {
      "cell_type": "code",
      "source": [
        "y = np.where(ibm_data['Adj Close'].shift(-1) > ibm_data['Adj Close'], 1, -1)\n",
        "y"
      ],
      "metadata": {
        "colab": {
          "base_uri": "https://localhost:8080/"
        },
        "id": "QTfFw7lPcYpe",
        "outputId": "7a2fb9c0-244d-47cb-8af0-e6f68d0f1c5f"
      },
      "execution_count": null,
      "outputs": [
        {
          "output_type": "execute_result",
          "data": {
            "text/plain": [
              "array([-1, -1, -1, ...,  1,  1, -1])"
            ]
          },
          "metadata": {},
          "execution_count": 154
        }
      ]
    },
    {
      "cell_type": "code",
      "source": [
        "from sklearn.model_selection import train_test_split\n",
        "x_train, x_test, y_train, y_test = train_test_split(x, y, test_size=0.2,random_state=42)\n",
        "#import standard scaler\n",
        "from sklearn.preprocessing import StandardScaler\n",
        "scaler = StandardScaler()\n",
        "#fit and transform the training data\n",
        "x_train = scaler.fit_transform(x_train)\n",
        "#transform the test data\n",
        "x_test = scaler.transform(x_test)"
      ],
      "metadata": {
        "id": "Edb8nXHfccvt"
      },
      "execution_count": null,
      "outputs": []
    },
    {
      "cell_type": "code",
      "source": [
        "#importing libraries\n",
        "from sklearn.neighbors import KNeighborsClassifier\n",
        "from sklearn.ensemble import RandomForestClassifier, GradientBoostingClassifier\n",
        "from sklearn.svm import SVC\n",
        "from xgboost import XGBClassifier\n",
        "#instantiate the models\n",
        "knn = KNeighborsClassifier()\n",
        "rf = RandomForestClassifier()\n",
        "gb = GradientBoostingClassifier()\n",
        "svc = SVC()\n",
        "xgb = XGBClassifier()\n",
        "#fit the models\n",
        "knn.fit(x_train, y_train)\n",
        "rf.fit(x_train, y_train)\n",
        "gb.fit(x_train, y_train)\n",
        "svc.fit(x_train, y_train)\n",
        "#test the models and print accuracy of the model\n",
        "print('KNN accuracy: ', knn.score(x_test, y_test))\n",
        "print('Random Forest accuracy: ', rf.score(x_test, y_test))\n",
        "print('Gradient Boosting accuracy: ', gb.score(x_test, y_test))\n",
        "print('Support Vector Machine accuracy: ', svc.score(x_test, y_test))"
      ],
      "metadata": {
        "colab": {
          "base_uri": "https://localhost:8080/"
        },
        "id": "j1oI1Xu0jZAF",
        "outputId": "c25f4bcd-7037-4d1e-c2a6-63ca7feb2236"
      },
      "execution_count": null,
      "outputs": [
        {
          "output_type": "stream",
          "name": "stdout",
          "text": [
            "KNN accuracy:  0.5750708215297451\n",
            "Random Forest accuracy:  0.5410764872521246\n",
            "Gradient Boosting accuracy:  0.5524079320113314\n",
            "Support Vector Machine accuracy:  0.5382436260623229\n"
          ]
        }
      ]
    },
    {
      "cell_type": "code",
      "source": [
        "xgb.fit(x_train, np.where(y_train==-1, 0, 1))\n",
        "print('XGBoost accuracy: ', xgb.score(x_test, np.where(y_test==-1, 0, 1)))"
      ],
      "metadata": {
        "colab": {
          "base_uri": "https://localhost:8080/"
        },
        "id": "vgikAt9ljlpx",
        "outputId": "c5b06342-8574-45ac-8748-9a02f92a1b5a"
      },
      "execution_count": null,
      "outputs": [
        {
          "output_type": "stream",
          "name": "stdout",
          "text": [
            "XGBoost accuracy:  0.56657223796034\n"
          ]
        }
      ]
    },
    {
      "cell_type": "markdown",
      "source": [
        "* Among all KNN gave highest accuracy before tuning"
      ],
      "metadata": {
        "id": "-F2FDrlSeEhF"
      }
    },
    {
      "cell_type": "markdown",
      "source": [
        "## Tuning stratergy 1"
      ],
      "metadata": {
        "id": "YGKxv-eTpPMH"
      }
    },
    {
      "cell_type": "code",
      "source": [
        "from sklearn.model_selection import GridSearchCV\n",
        "from sklearn.model_selection import cross_val_score\n",
        "metrics = ['manhattan']\n",
        "neighbors = np.arange(1, 16)\n",
        "param_grid  = dict(metric=metrics, n_neighbors=neighbors)\n",
        "param_grid\n",
        "knn = KNeighborsClassifier()\n",
        "# when refit=True, it will fits the best hyperparameters to all training data\n",
        "# and also allow to use GridSearchCV object as an estimator for prediction\n",
        "grid= GridSearchCV(knn, param_grid, cv=10, scoring='accuracy', refit=True)\n",
        "grid.fit(x_train, y_train)"
      ],
      "metadata": {
        "colab": {
          "base_uri": "https://localhost:8080/"
        },
        "id": "uPQ2UqqvkE9S",
        "outputId": "8946b11a-fc93-454d-dd59-a40558e73b38"
      },
      "execution_count": null,
      "outputs": [
        {
          "output_type": "execute_result",
          "data": {
            "text/plain": [
              "GridSearchCV(cv=10, estimator=KNeighborsClassifier(),\n",
              "             param_grid={'metric': ['manhattan'],\n",
              "                         'n_neighbors': array([ 1,  2,  3,  4,  5,  6,  7,  8,  9, 10, 11, 12, 13, 14, 15])},\n",
              "             scoring='accuracy')"
            ]
          },
          "metadata": {},
          "execution_count": 136
        }
      ]
    },
    {
      "cell_type": "code",
      "source": [
        "print('KNN accuracy: ', grid.score(x_test, y_test))\n",
        "print(grid.best_params_)\n",
        "print(grid.best_estimator_)"
      ],
      "metadata": {
        "colab": {
          "base_uri": "https://localhost:8080/"
        },
        "id": "7FZfVjaqkVpM",
        "outputId": "3c1d0ecd-2e94-4f15-f283-24b0934eb9ed"
      },
      "execution_count": null,
      "outputs": [
        {
          "output_type": "stream",
          "name": "stdout",
          "text": [
            "KNN accuracy:  0.5580736543909348\n",
            "{'metric': 'manhattan', 'n_neighbors': 6}\n",
            "KNeighborsClassifier(metric='manhattan', n_neighbors=6)\n"
          ]
        }
      ]
    },
    {
      "cell_type": "code",
      "source": [
        "from sklearn.model_selection import GridSearchCV\n",
        "#set the parameters to be tuned\n",
        "param_grid = {'C': [0.1, 1, 10, 100, 1000], 'gamma': [1, 0.1, 0.01, 0.001, 0.0001], 'kernel': ['rbf']}\n",
        "#instantiate the grid search\n",
        "grid = GridSearchCV(SVC(), param_grid, refit=True, verbose=3)\n",
        "#fit the grid search\n",
        "grid.fit(x_train, y_train)"
      ],
      "metadata": {
        "colab": {
          "base_uri": "https://localhost:8080/"
        },
        "id": "ePdf016dnwLQ",
        "outputId": "fb87c7ae-e111-4413-c821-cdab8eaae537"
      },
      "execution_count": null,
      "outputs": [
        {
          "output_type": "stream",
          "name": "stdout",
          "text": [
            "Fitting 5 folds for each of 25 candidates, totalling 125 fits\n",
            "[CV 1/5] END ........C=0.1, gamma=1, kernel=rbf;, score=0.496 total time=   0.1s\n",
            "[CV 2/5] END ........C=0.1, gamma=1, kernel=rbf;, score=0.518 total time=   0.1s\n",
            "[CV 3/5] END ........C=0.1, gamma=1, kernel=rbf;, score=0.518 total time=   0.1s\n",
            "[CV 4/5] END ........C=0.1, gamma=1, kernel=rbf;, score=0.511 total time=   0.1s\n",
            "[CV 5/5] END ........C=0.1, gamma=1, kernel=rbf;, score=0.520 total time=   0.1s\n",
            "[CV 1/5] END ......C=0.1, gamma=0.1, kernel=rbf;, score=0.528 total time=   0.1s\n",
            "[CV 2/5] END ......C=0.1, gamma=0.1, kernel=rbf;, score=0.518 total time=   0.1s\n",
            "[CV 3/5] END ......C=0.1, gamma=0.1, kernel=rbf;, score=0.507 total time=   0.1s\n",
            "[CV 4/5] END ......C=0.1, gamma=0.1, kernel=rbf;, score=0.507 total time=   0.1s\n",
            "[CV 5/5] END ......C=0.1, gamma=0.1, kernel=rbf;, score=0.520 total time=   0.1s\n",
            "[CV 1/5] END .....C=0.1, gamma=0.01, kernel=rbf;, score=0.518 total time=   0.1s\n",
            "[CV 2/5] END .....C=0.1, gamma=0.01, kernel=rbf;, score=0.518 total time=   0.1s\n",
            "[CV 3/5] END .....C=0.1, gamma=0.01, kernel=rbf;, score=0.518 total time=   0.1s\n",
            "[CV 4/5] END .....C=0.1, gamma=0.01, kernel=rbf;, score=0.518 total time=   0.1s\n",
            "[CV 5/5] END .....C=0.1, gamma=0.01, kernel=rbf;, score=0.520 total time=   0.1s\n",
            "[CV 1/5] END ....C=0.1, gamma=0.001, kernel=rbf;, score=0.518 total time=   0.1s\n",
            "[CV 2/5] END ....C=0.1, gamma=0.001, kernel=rbf;, score=0.518 total time=   0.1s\n",
            "[CV 3/5] END ....C=0.1, gamma=0.001, kernel=rbf;, score=0.518 total time=   0.1s\n",
            "[CV 4/5] END ....C=0.1, gamma=0.001, kernel=rbf;, score=0.518 total time=   0.1s\n",
            "[CV 5/5] END ....C=0.1, gamma=0.001, kernel=rbf;, score=0.520 total time=   0.1s\n",
            "[CV 1/5] END ...C=0.1, gamma=0.0001, kernel=rbf;, score=0.518 total time=   0.1s\n",
            "[CV 2/5] END ...C=0.1, gamma=0.0001, kernel=rbf;, score=0.518 total time=   0.1s\n",
            "[CV 3/5] END ...C=0.1, gamma=0.0001, kernel=rbf;, score=0.518 total time=   0.1s\n",
            "[CV 4/5] END ...C=0.1, gamma=0.0001, kernel=rbf;, score=0.518 total time=   0.1s\n",
            "[CV 5/5] END ...C=0.1, gamma=0.0001, kernel=rbf;, score=0.520 total time=   0.1s\n",
            "[CV 1/5] END ..........C=1, gamma=1, kernel=rbf;, score=0.514 total time=   0.1s\n",
            "[CV 2/5] END ..........C=1, gamma=1, kernel=rbf;, score=0.507 total time=   0.1s\n",
            "[CV 3/5] END ..........C=1, gamma=1, kernel=rbf;, score=0.504 total time=   0.1s\n",
            "[CV 4/5] END ..........C=1, gamma=1, kernel=rbf;, score=0.489 total time=   0.1s\n",
            "[CV 5/5] END ..........C=1, gamma=1, kernel=rbf;, score=0.480 total time=   0.1s\n",
            "[CV 1/5] END ........C=1, gamma=0.1, kernel=rbf;, score=0.514 total time=   0.1s\n",
            "[CV 2/5] END ........C=1, gamma=0.1, kernel=rbf;, score=0.507 total time=   0.1s\n",
            "[CV 3/5] END ........C=1, gamma=0.1, kernel=rbf;, score=0.489 total time=   0.1s\n",
            "[CV 4/5] END ........C=1, gamma=0.1, kernel=rbf;, score=0.504 total time=   0.1s\n",
            "[CV 5/5] END ........C=1, gamma=0.1, kernel=rbf;, score=0.520 total time=   0.1s\n",
            "[CV 1/5] END .......C=1, gamma=0.01, kernel=rbf;, score=0.539 total time=   0.1s\n",
            "[CV 2/5] END .......C=1, gamma=0.01, kernel=rbf;, score=0.518 total time=   0.1s\n",
            "[CV 3/5] END .......C=1, gamma=0.01, kernel=rbf;, score=0.507 total time=   0.1s\n",
            "[CV 4/5] END .......C=1, gamma=0.01, kernel=rbf;, score=0.500 total time=   0.1s\n",
            "[CV 5/5] END .......C=1, gamma=0.01, kernel=rbf;, score=0.520 total time=   0.1s\n",
            "[CV 1/5] END ......C=1, gamma=0.001, kernel=rbf;, score=0.518 total time=   0.1s\n",
            "[CV 2/5] END ......C=1, gamma=0.001, kernel=rbf;, score=0.518 total time=   0.1s\n",
            "[CV 3/5] END ......C=1, gamma=0.001, kernel=rbf;, score=0.518 total time=   0.1s\n",
            "[CV 4/5] END ......C=1, gamma=0.001, kernel=rbf;, score=0.518 total time=   0.1s\n",
            "[CV 5/5] END ......C=1, gamma=0.001, kernel=rbf;, score=0.520 total time=   0.1s\n",
            "[CV 1/5] END .....C=1, gamma=0.0001, kernel=rbf;, score=0.518 total time=   0.1s\n",
            "[CV 2/5] END .....C=1, gamma=0.0001, kernel=rbf;, score=0.518 total time=   0.1s\n",
            "[CV 3/5] END .....C=1, gamma=0.0001, kernel=rbf;, score=0.518 total time=   0.1s\n",
            "[CV 4/5] END .....C=1, gamma=0.0001, kernel=rbf;, score=0.518 total time=   0.1s\n",
            "[CV 5/5] END .....C=1, gamma=0.0001, kernel=rbf;, score=0.520 total time=   0.1s\n",
            "[CV 1/5] END .........C=10, gamma=1, kernel=rbf;, score=0.525 total time=   0.1s\n",
            "[CV 2/5] END .........C=10, gamma=1, kernel=rbf;, score=0.489 total time=   0.1s\n",
            "[CV 3/5] END .........C=10, gamma=1, kernel=rbf;, score=0.514 total time=   0.1s\n",
            "[CV 4/5] END .........C=10, gamma=1, kernel=rbf;, score=0.479 total time=   0.1s\n",
            "[CV 5/5] END .........C=10, gamma=1, kernel=rbf;, score=0.509 total time=   0.1s\n",
            "[CV 1/5] END .......C=10, gamma=0.1, kernel=rbf;, score=0.496 total time=   0.1s\n",
            "[CV 2/5] END .......C=10, gamma=0.1, kernel=rbf;, score=0.518 total time=   0.1s\n",
            "[CV 3/5] END .......C=10, gamma=0.1, kernel=rbf;, score=0.465 total time=   0.1s\n",
            "[CV 4/5] END .......C=10, gamma=0.1, kernel=rbf;, score=0.500 total time=   0.1s\n",
            "[CV 5/5] END .......C=10, gamma=0.1, kernel=rbf;, score=0.537 total time=   0.1s\n",
            "[CV 1/5] END ......C=10, gamma=0.01, kernel=rbf;, score=0.528 total time=   0.1s\n",
            "[CV 2/5] END ......C=10, gamma=0.01, kernel=rbf;, score=0.518 total time=   0.1s\n",
            "[CV 3/5] END ......C=10, gamma=0.01, kernel=rbf;, score=0.496 total time=   0.1s\n",
            "[CV 4/5] END ......C=10, gamma=0.01, kernel=rbf;, score=0.489 total time=   0.1s\n",
            "[CV 5/5] END ......C=10, gamma=0.01, kernel=rbf;, score=0.544 total time=   0.1s\n",
            "[CV 1/5] END .....C=10, gamma=0.001, kernel=rbf;, score=0.525 total time=   0.1s\n",
            "[CV 2/5] END .....C=10, gamma=0.001, kernel=rbf;, score=0.518 total time=   0.1s\n",
            "[CV 3/5] END .....C=10, gamma=0.001, kernel=rbf;, score=0.511 total time=   0.1s\n",
            "[CV 4/5] END .....C=10, gamma=0.001, kernel=rbf;, score=0.521 total time=   0.1s\n",
            "[CV 5/5] END .....C=10, gamma=0.001, kernel=rbf;, score=0.520 total time=   0.1s\n",
            "[CV 1/5] END ....C=10, gamma=0.0001, kernel=rbf;, score=0.518 total time=   0.1s\n",
            "[CV 2/5] END ....C=10, gamma=0.0001, kernel=rbf;, score=0.518 total time=   0.1s\n",
            "[CV 3/5] END ....C=10, gamma=0.0001, kernel=rbf;, score=0.518 total time=   0.1s\n",
            "[CV 4/5] END ....C=10, gamma=0.0001, kernel=rbf;, score=0.518 total time=   0.1s\n",
            "[CV 5/5] END ....C=10, gamma=0.0001, kernel=rbf;, score=0.520 total time=   0.1s\n",
            "[CV 1/5] END ........C=100, gamma=1, kernel=rbf;, score=0.482 total time=   0.2s\n",
            "[CV 2/5] END ........C=100, gamma=1, kernel=rbf;, score=0.489 total time=   0.2s\n",
            "[CV 3/5] END ........C=100, gamma=1, kernel=rbf;, score=0.543 total time=   0.2s\n",
            "[CV 4/5] END ........C=100, gamma=1, kernel=rbf;, score=0.479 total time=   0.2s\n",
            "[CV 5/5] END ........C=100, gamma=1, kernel=rbf;, score=0.473 total time=   0.2s\n",
            "[CV 1/5] END ......C=100, gamma=0.1, kernel=rbf;, score=0.511 total time=   0.1s\n",
            "[CV 2/5] END ......C=100, gamma=0.1, kernel=rbf;, score=0.539 total time=   0.1s\n",
            "[CV 3/5] END ......C=100, gamma=0.1, kernel=rbf;, score=0.496 total time=   0.1s\n",
            "[CV 4/5] END ......C=100, gamma=0.1, kernel=rbf;, score=0.504 total time=   0.1s\n",
            "[CV 5/5] END ......C=100, gamma=0.1, kernel=rbf;, score=0.555 total time=   0.1s\n",
            "[CV 1/5] END .....C=100, gamma=0.01, kernel=rbf;, score=0.507 total time=   0.1s\n",
            "[CV 2/5] END .....C=100, gamma=0.01, kernel=rbf;, score=0.504 total time=   0.1s\n",
            "[CV 3/5] END .....C=100, gamma=0.01, kernel=rbf;, score=0.504 total time=   0.1s\n",
            "[CV 4/5] END .....C=100, gamma=0.01, kernel=rbf;, score=0.521 total time=   0.1s\n",
            "[CV 5/5] END .....C=100, gamma=0.01, kernel=rbf;, score=0.537 total time=   0.1s\n",
            "[CV 1/5] END ....C=100, gamma=0.001, kernel=rbf;, score=0.546 total time=   0.1s\n",
            "[CV 2/5] END ....C=100, gamma=0.001, kernel=rbf;, score=0.518 total time=   0.1s\n",
            "[CV 3/5] END ....C=100, gamma=0.001, kernel=rbf;, score=0.518 total time=   0.1s\n",
            "[CV 4/5] END ....C=100, gamma=0.001, kernel=rbf;, score=0.504 total time=   0.1s\n",
            "[CV 5/5] END ....C=100, gamma=0.001, kernel=rbf;, score=0.523 total time=   0.1s\n",
            "[CV 1/5] END ...C=100, gamma=0.0001, kernel=rbf;, score=0.525 total time=   0.1s\n",
            "[CV 2/5] END ...C=100, gamma=0.0001, kernel=rbf;, score=0.518 total time=   0.1s\n",
            "[CV 3/5] END ...C=100, gamma=0.0001, kernel=rbf;, score=0.532 total time=   0.1s\n",
            "[CV 4/5] END ...C=100, gamma=0.0001, kernel=rbf;, score=0.521 total time=   0.1s\n",
            "[CV 5/5] END ...C=100, gamma=0.0001, kernel=rbf;, score=0.520 total time=   0.1s\n",
            "[CV 1/5] END .......C=1000, gamma=1, kernel=rbf;, score=0.521 total time=   1.1s\n",
            "[CV 2/5] END .......C=1000, gamma=1, kernel=rbf;, score=0.486 total time=   0.8s\n",
            "[CV 3/5] END .......C=1000, gamma=1, kernel=rbf;, score=0.493 total time=   0.9s\n",
            "[CV 4/5] END .......C=1000, gamma=1, kernel=rbf;, score=0.489 total time=   0.9s\n",
            "[CV 5/5] END .......C=1000, gamma=1, kernel=rbf;, score=0.470 total time=   1.0s\n",
            "[CV 1/5] END .....C=1000, gamma=0.1, kernel=rbf;, score=0.535 total time=   0.3s\n",
            "[CV 2/5] END .....C=1000, gamma=0.1, kernel=rbf;, score=0.557 total time=   0.3s\n",
            "[CV 3/5] END .....C=1000, gamma=0.1, kernel=rbf;, score=0.521 total time=   0.3s\n",
            "[CV 4/5] END .....C=1000, gamma=0.1, kernel=rbf;, score=0.482 total time=   0.3s\n",
            "[CV 5/5] END .....C=1000, gamma=0.1, kernel=rbf;, score=0.498 total time=   0.3s\n",
            "[CV 1/5] END ....C=1000, gamma=0.01, kernel=rbf;, score=0.521 total time=   0.1s\n",
            "[CV 2/5] END ....C=1000, gamma=0.01, kernel=rbf;, score=0.532 total time=   0.1s\n",
            "[CV 3/5] END ....C=1000, gamma=0.01, kernel=rbf;, score=0.511 total time=   0.1s\n",
            "[CV 4/5] END ....C=1000, gamma=0.01, kernel=rbf;, score=0.511 total time=   0.1s\n",
            "[CV 5/5] END ....C=1000, gamma=0.01, kernel=rbf;, score=0.566 total time=   0.1s\n",
            "[CV 1/5] END ...C=1000, gamma=0.001, kernel=rbf;, score=0.550 total time=   0.1s\n",
            "[CV 2/5] END ...C=1000, gamma=0.001, kernel=rbf;, score=0.521 total time=   0.1s\n",
            "[CV 3/5] END ...C=1000, gamma=0.001, kernel=rbf;, score=0.507 total time=   0.1s\n",
            "[CV 4/5] END ...C=1000, gamma=0.001, kernel=rbf;, score=0.514 total time=   0.1s\n",
            "[CV 5/5] END ...C=1000, gamma=0.001, kernel=rbf;, score=0.548 total time=   0.1s\n",
            "[CV 1/5] END ..C=1000, gamma=0.0001, kernel=rbf;, score=0.535 total time=   0.1s\n",
            "[CV 2/5] END ..C=1000, gamma=0.0001, kernel=rbf;, score=0.521 total time=   0.1s\n",
            "[CV 3/5] END ..C=1000, gamma=0.0001, kernel=rbf;, score=0.493 total time=   0.1s\n",
            "[CV 4/5] END ..C=1000, gamma=0.0001, kernel=rbf;, score=0.525 total time=   0.1s\n",
            "[CV 5/5] END ..C=1000, gamma=0.0001, kernel=rbf;, score=0.520 total time=   0.1s\n"
          ]
        },
        {
          "output_type": "execute_result",
          "data": {
            "text/plain": [
              "GridSearchCV(estimator=SVC(),\n",
              "             param_grid={'C': [0.1, 1, 10, 100, 1000],\n",
              "                         'gamma': [1, 0.1, 0.01, 0.001, 0.0001],\n",
              "                         'kernel': ['rbf']},\n",
              "             verbose=3)"
            ]
          },
          "metadata": {},
          "execution_count": 156
        }
      ]
    },
    {
      "cell_type": "code",
      "source": [
        "print('Support Vector Machine accuracy: ', grid.score(x_test, y_test))\n",
        "print(grid.best_params_)\n",
        "print(grid.best_estimator_)\n"
      ],
      "metadata": {
        "colab": {
          "base_uri": "https://localhost:8080/"
        },
        "id": "tvADgNw4n7I5",
        "outputId": "87108eaa-53f4-4ccd-ee94-26dccd61c484"
      },
      "execution_count": null,
      "outputs": [
        {
          "output_type": "stream",
          "name": "stdout",
          "text": [
            "Support Vector Machine accuracy:  0.5524079320113314\n",
            "{'C': 1000, 'gamma': 0.01, 'kernel': 'rbf'}\n",
            "SVC(C=1000, gamma=0.01)\n"
          ]
        }
      ]
    },
    {
      "cell_type": "code",
      "source": [
        "from sklearn.model_selection import GridSearchCV,RandomizedSearchCV\n",
        "# 'min_child_weight' : [ 1, 3 ],\n",
        "# 'colsample_bytree' : [ 0.3, 0.4, 0.5 , 0.7 ],\n",
        "random_params_xgb={\n",
        "'learning_rate' : [0.1,  0.2,  0.3],\n",
        "'max_depth' : [ 6,10,15,20],\n",
        "# 'n_estimators' : [100,200,400, 600, 700, 900],\n",
        "}\n",
        "#using randomized search cv as the gridsearchcv takes too long.\n",
        "random_search = RandomizedSearchCV(xgb, random_params_xgb, scoring='recall',cv = 5, n_jobs = -1, verbose = 1)\n",
        "random_search.fit(x_train, y_train)"
      ],
      "metadata": {
        "colab": {
          "base_uri": "https://localhost:8080/"
        },
        "id": "lhKfsaeBoQGB",
        "outputId": "995e657b-ade8-490f-bca3-cb894920b0b4"
      },
      "execution_count": null,
      "outputs": [
        {
          "output_type": "stream",
          "name": "stdout",
          "text": [
            "Fitting 5 folds for each of 10 candidates, totalling 50 fits\n"
          ]
        },
        {
          "output_type": "execute_result",
          "data": {
            "text/plain": [
              "RandomizedSearchCV(cv=5, estimator=XGBClassifier(), n_jobs=-1,\n",
              "                   param_distributions={'learning_rate': [0.1, 0.2, 0.3],\n",
              "                                        'max_depth': [6, 10, 15, 20]},\n",
              "                   scoring='recall', verbose=1)"
            ]
          },
          "metadata": {},
          "execution_count": 161
        }
      ]
    },
    {
      "cell_type": "code",
      "source": [
        "xgb_model=random_search.best_estimator_\n",
        "xgb_model.fit(x_train, y_train)\n",
        "predXGB = xgb_model.predict(x_test)"
      ],
      "metadata": {
        "id": "EoFRBRIAos7V"
      },
      "execution_count": null,
      "outputs": []
    },
    {
      "cell_type": "code",
      "source": [
        "xgb_model.score(x_test,y_test)"
      ],
      "metadata": {
        "colab": {
          "base_uri": "https://localhost:8080/"
        },
        "id": "_itJESTXoxHC",
        "outputId": "6777fe7b-c415-4fa2-8043-dc965c35f472"
      },
      "execution_count": null,
      "outputs": [
        {
          "output_type": "execute_result",
          "data": {
            "text/plain": [
              "0.5410764872521246"
            ]
          },
          "metadata": {},
          "execution_count": 167
        }
      ]
    },
    {
      "cell_type": "markdown",
      "source": [
        "Statergy 2"
      ],
      "metadata": {
        "id": "lKHzHlRakoQv"
      }
    },
    {
      "cell_type": "code",
      "source": [
        "y= np.where(x['Adj Close'].rolling(50).mean() > x['Adj Close'].rolling(200).mean(), 1, 0)\n",
        "y"
      ],
      "metadata": {
        "colab": {
          "base_uri": "https://localhost:8080/"
        },
        "id": "9i_FkyNXkhPV",
        "outputId": "f7a11cb6-f371-4afd-a9f4-087a189847cd"
      },
      "execution_count": null,
      "outputs": [
        {
          "output_type": "execute_result",
          "data": {
            "text/plain": [
              "array([0, 0, 0, ..., 0, 0, 0])"
            ]
          },
          "metadata": {},
          "execution_count": 138
        }
      ]
    },
    {
      "cell_type": "code",
      "source": [
        "np.unique(y)"
      ],
      "metadata": {
        "colab": {
          "base_uri": "https://localhost:8080/"
        },
        "id": "vbGrz5oFkvyX",
        "outputId": "388ce452-dde5-4c5d-a4a9-1c1701776dc0"
      },
      "execution_count": null,
      "outputs": [
        {
          "output_type": "execute_result",
          "data": {
            "text/plain": [
              "array([0, 1])"
            ]
          },
          "metadata": {},
          "execution_count": 139
        }
      ]
    },
    {
      "cell_type": "code",
      "source": [
        "x_train, x_test, y_train, y_test = train_test_split(x, y, test_size=0.2,random_state=42)\n",
        "#fit and transform the training data\n",
        "x_train = scaler.fit_transform(x_train)\n",
        "#transform the test data\n",
        "x_test = scaler.transform(x_test)\n",
        "#fit the models\n",
        "knn.fit(x_train, y_train)\n",
        "rf.fit(x_train, y_train)\n",
        "gb.fit(x_train, y_train)\n",
        "svc.fit(x_train, y_train)\n",
        "xgb.fit(x_train, y_train)\n",
        "#test the models and print accuracy of the model\n",
        "print('KNN accuracy: ', knn.score(x_test, y_test))\n",
        "print('Random Forest accuracy: ', rf.score(x_test, y_test))\n",
        "print('Gradient Boosting accuracy: ', gb.score(x_test, y_test))\n",
        "print('Support Vector Machine accuracy: ', svc.score(x_test, y_test))\n",
        "print('XGBoost accuracy: ', xgb.score(x_test, y_test))\n"
      ],
      "metadata": {
        "colab": {
          "base_uri": "https://localhost:8080/"
        },
        "id": "Vz9DGa2BlFno",
        "outputId": "051e95b4-141f-4df6-d855-af0c8a4bb520"
      },
      "execution_count": null,
      "outputs": [
        {
          "output_type": "stream",
          "name": "stdout",
          "text": [
            "KNN accuracy:  0.8583569405099151\n",
            "Random Forest accuracy:  0.8413597733711048\n",
            "Gradient Boosting accuracy:  0.773371104815864\n",
            "Support Vector Machine accuracy:  0.7422096317280453\n",
            "XGBoost accuracy:  0.7762039660056658\n"
          ]
        }
      ]
    },
    {
      "cell_type": "markdown",
      "source": [
        "## Tuning statergy2"
      ],
      "metadata": {
        "id": "y0fQtJ_gplks"
      }
    },
    {
      "cell_type": "code",
      "source": [
        "param_grid = {'learning_rate': [0.01, 0.1, 0.2, 0.3], 'max_depth': [3, 4, 5, 6,7], 'n_estimators': [100, 200, 300, 400, 500]}\n",
        "#instantiate the grid search\n",
        "grid = GridSearchCV(XGBClassifier(), param_grid, refit=True, verbose=3)\n",
        "#fit the grid search\n",
        "grid.fit(x_train, y_train)"
      ],
      "metadata": {
        "colab": {
          "base_uri": "https://localhost:8080/"
        },
        "id": "0ezXGw5iley_",
        "outputId": "a4b77032-5cb5-4145-9813-36de3062b137"
      },
      "execution_count": null,
      "outputs": [
        {
          "output_type": "stream",
          "name": "stdout",
          "text": [
            "Fitting 5 folds for each of 100 candidates, totalling 500 fits\n",
            "[CV 1/5] END learning_rate=0.01, max_depth=3, n_estimators=100;, score=0.720 total time=   0.1s\n",
            "[CV 2/5] END learning_rate=0.01, max_depth=3, n_estimators=100;, score=0.759 total time=   0.1s\n",
            "[CV 3/5] END learning_rate=0.01, max_depth=3, n_estimators=100;, score=0.759 total time=   0.1s\n",
            "[CV 4/5] END learning_rate=0.01, max_depth=3, n_estimators=100;, score=0.809 total time=   0.1s\n",
            "[CV 5/5] END learning_rate=0.01, max_depth=3, n_estimators=100;, score=0.808 total time=   0.1s\n",
            "[CV 1/5] END learning_rate=0.01, max_depth=3, n_estimators=200;, score=0.745 total time=   0.2s\n",
            "[CV 2/5] END learning_rate=0.01, max_depth=3, n_estimators=200;, score=0.766 total time=   0.2s\n",
            "[CV 3/5] END learning_rate=0.01, max_depth=3, n_estimators=200;, score=0.787 total time=   0.2s\n",
            "[CV 4/5] END learning_rate=0.01, max_depth=3, n_estimators=200;, score=0.805 total time=   0.2s\n",
            "[CV 5/5] END learning_rate=0.01, max_depth=3, n_estimators=200;, score=0.815 total time=   0.2s\n",
            "[CV 1/5] END learning_rate=0.01, max_depth=3, n_estimators=300;, score=0.759 total time=   0.2s\n",
            "[CV 2/5] END learning_rate=0.01, max_depth=3, n_estimators=300;, score=0.777 total time=   0.3s\n",
            "[CV 3/5] END learning_rate=0.01, max_depth=3, n_estimators=300;, score=0.801 total time=   0.2s\n",
            "[CV 4/5] END learning_rate=0.01, max_depth=3, n_estimators=300;, score=0.798 total time=   0.2s\n",
            "[CV 5/5] END learning_rate=0.01, max_depth=3, n_estimators=300;, score=0.819 total time=   0.2s\n",
            "[CV 1/5] END learning_rate=0.01, max_depth=3, n_estimators=400;, score=0.766 total time=   0.3s\n",
            "[CV 2/5] END learning_rate=0.01, max_depth=3, n_estimators=400;, score=0.787 total time=   0.3s\n",
            "[CV 3/5] END learning_rate=0.01, max_depth=3, n_estimators=400;, score=0.801 total time=   0.3s\n",
            "[CV 4/5] END learning_rate=0.01, max_depth=3, n_estimators=400;, score=0.805 total time=   0.3s\n",
            "[CV 5/5] END learning_rate=0.01, max_depth=3, n_estimators=400;, score=0.836 total time=   0.3s\n",
            "[CV 1/5] END learning_rate=0.01, max_depth=3, n_estimators=500;, score=0.773 total time=   0.4s\n",
            "[CV 2/5] END learning_rate=0.01, max_depth=3, n_estimators=500;, score=0.794 total time=   0.4s\n",
            "[CV 3/5] END learning_rate=0.01, max_depth=3, n_estimators=500;, score=0.801 total time=   0.4s\n",
            "[CV 4/5] END learning_rate=0.01, max_depth=3, n_estimators=500;, score=0.812 total time=   0.4s\n",
            "[CV 5/5] END learning_rate=0.01, max_depth=3, n_estimators=500;, score=0.829 total time=   0.4s\n",
            "[CV 1/5] END learning_rate=0.01, max_depth=4, n_estimators=100;, score=0.759 total time=   0.1s\n",
            "[CV 2/5] END learning_rate=0.01, max_depth=4, n_estimators=100;, score=0.770 total time=   0.1s\n",
            "[CV 3/5] END learning_rate=0.01, max_depth=4, n_estimators=100;, score=0.805 total time=   0.1s\n",
            "[CV 4/5] END learning_rate=0.01, max_depth=4, n_estimators=100;, score=0.816 total time=   0.1s\n",
            "[CV 5/5] END learning_rate=0.01, max_depth=4, n_estimators=100;, score=0.808 total time=   0.1s\n",
            "[CV 1/5] END learning_rate=0.01, max_depth=4, n_estimators=200;, score=0.759 total time=   0.2s\n",
            "[CV 2/5] END learning_rate=0.01, max_depth=4, n_estimators=200;, score=0.780 total time=   0.2s\n",
            "[CV 3/5] END learning_rate=0.01, max_depth=4, n_estimators=200;, score=0.805 total time=   0.2s\n",
            "[CV 4/5] END learning_rate=0.01, max_depth=4, n_estimators=200;, score=0.833 total time=   0.2s\n",
            "[CV 5/5] END learning_rate=0.01, max_depth=4, n_estimators=200;, score=0.826 total time=   0.2s\n",
            "[CV 1/5] END learning_rate=0.01, max_depth=4, n_estimators=300;, score=0.784 total time=   0.3s\n",
            "[CV 2/5] END learning_rate=0.01, max_depth=4, n_estimators=300;, score=0.787 total time=   0.3s\n",
            "[CV 3/5] END learning_rate=0.01, max_depth=4, n_estimators=300;, score=0.809 total time=   0.3s\n",
            "[CV 4/5] END learning_rate=0.01, max_depth=4, n_estimators=300;, score=0.826 total time=   0.3s\n",
            "[CV 5/5] END learning_rate=0.01, max_depth=4, n_estimators=300;, score=0.833 total time=   0.3s\n",
            "[CV 1/5] END learning_rate=0.01, max_depth=4, n_estimators=400;, score=0.784 total time=   0.4s\n",
            "[CV 2/5] END learning_rate=0.01, max_depth=4, n_estimators=400;, score=0.784 total time=   0.4s\n",
            "[CV 3/5] END learning_rate=0.01, max_depth=4, n_estimators=400;, score=0.809 total time=   0.4s\n",
            "[CV 4/5] END learning_rate=0.01, max_depth=4, n_estimators=400;, score=0.826 total time=   0.4s\n",
            "[CV 5/5] END learning_rate=0.01, max_depth=4, n_estimators=400;, score=0.840 total time=   0.7s\n",
            "[CV 1/5] END learning_rate=0.01, max_depth=4, n_estimators=500;, score=0.787 total time=   0.8s\n",
            "[CV 2/5] END learning_rate=0.01, max_depth=4, n_estimators=500;, score=0.798 total time=   0.8s\n",
            "[CV 3/5] END learning_rate=0.01, max_depth=4, n_estimators=500;, score=0.812 total time=   0.6s\n",
            "[CV 4/5] END learning_rate=0.01, max_depth=4, n_estimators=500;, score=0.840 total time=   0.5s\n",
            "[CV 5/5] END learning_rate=0.01, max_depth=4, n_estimators=500;, score=0.836 total time=   0.5s\n",
            "[CV 1/5] END learning_rate=0.01, max_depth=5, n_estimators=100;, score=0.798 total time=   0.1s\n",
            "[CV 2/5] END learning_rate=0.01, max_depth=5, n_estimators=100;, score=0.794 total time=   0.1s\n",
            "[CV 3/5] END learning_rate=0.01, max_depth=5, n_estimators=100;, score=0.812 total time=   0.1s\n",
            "[CV 4/5] END learning_rate=0.01, max_depth=5, n_estimators=100;, score=0.801 total time=   0.1s\n",
            "[CV 5/5] END learning_rate=0.01, max_depth=5, n_estimators=100;, score=0.819 total time=   0.1s\n",
            "[CV 1/5] END learning_rate=0.01, max_depth=5, n_estimators=200;, score=0.787 total time=   0.3s\n",
            "[CV 2/5] END learning_rate=0.01, max_depth=5, n_estimators=200;, score=0.812 total time=   0.3s\n",
            "[CV 3/5] END learning_rate=0.01, max_depth=5, n_estimators=200;, score=0.812 total time=   0.3s\n",
            "[CV 4/5] END learning_rate=0.01, max_depth=5, n_estimators=200;, score=0.805 total time=   0.2s\n",
            "[CV 5/5] END learning_rate=0.01, max_depth=5, n_estimators=200;, score=0.829 total time=   0.3s\n",
            "[CV 1/5] END learning_rate=0.01, max_depth=5, n_estimators=300;, score=0.791 total time=   0.4s\n",
            "[CV 2/5] END learning_rate=0.01, max_depth=5, n_estimators=300;, score=0.819 total time=   0.4s\n",
            "[CV 3/5] END learning_rate=0.01, max_depth=5, n_estimators=300;, score=0.812 total time=   0.4s\n",
            "[CV 4/5] END learning_rate=0.01, max_depth=5, n_estimators=300;, score=0.816 total time=   0.4s\n",
            "[CV 5/5] END learning_rate=0.01, max_depth=5, n_estimators=300;, score=0.843 total time=   0.4s\n",
            "[CV 1/5] END learning_rate=0.01, max_depth=5, n_estimators=400;, score=0.794 total time=   0.5s\n",
            "[CV 2/5] END learning_rate=0.01, max_depth=5, n_estimators=400;, score=0.830 total time=   0.5s\n",
            "[CV 3/5] END learning_rate=0.01, max_depth=5, n_estimators=400;, score=0.819 total time=   0.5s\n",
            "[CV 4/5] END learning_rate=0.01, max_depth=5, n_estimators=400;, score=0.826 total time=   0.5s\n",
            "[CV 5/5] END learning_rate=0.01, max_depth=5, n_estimators=400;, score=0.858 total time=   0.5s\n",
            "[CV 1/5] END learning_rate=0.01, max_depth=5, n_estimators=500;, score=0.787 total time=   0.6s\n",
            "[CV 2/5] END learning_rate=0.01, max_depth=5, n_estimators=500;, score=0.848 total time=   0.6s\n",
            "[CV 3/5] END learning_rate=0.01, max_depth=5, n_estimators=500;, score=0.826 total time=   0.6s\n",
            "[CV 4/5] END learning_rate=0.01, max_depth=5, n_estimators=500;, score=0.840 total time=   0.6s\n",
            "[CV 5/5] END learning_rate=0.01, max_depth=5, n_estimators=500;, score=0.851 total time=   0.6s\n",
            "[CV 1/5] END learning_rate=0.01, max_depth=6, n_estimators=100;, score=0.780 total time=   0.2s\n",
            "[CV 2/5] END learning_rate=0.01, max_depth=6, n_estimators=100;, score=0.798 total time=   0.2s\n",
            "[CV 3/5] END learning_rate=0.01, max_depth=6, n_estimators=100;, score=0.830 total time=   0.2s\n",
            "[CV 4/5] END learning_rate=0.01, max_depth=6, n_estimators=100;, score=0.801 total time=   0.2s\n",
            "[CV 5/5] END learning_rate=0.01, max_depth=6, n_estimators=100;, score=0.826 total time=   0.2s\n",
            "[CV 1/5] END learning_rate=0.01, max_depth=6, n_estimators=200;, score=0.777 total time=   0.3s\n",
            "[CV 2/5] END learning_rate=0.01, max_depth=6, n_estimators=200;, score=0.816 total time=   0.3s\n",
            "[CV 3/5] END learning_rate=0.01, max_depth=6, n_estimators=200;, score=0.826 total time=   0.3s\n",
            "[CV 4/5] END learning_rate=0.01, max_depth=6, n_estimators=200;, score=0.812 total time=   0.3s\n",
            "[CV 5/5] END learning_rate=0.01, max_depth=6, n_estimators=200;, score=0.833 total time=   0.3s\n",
            "[CV 1/5] END learning_rate=0.01, max_depth=6, n_estimators=300;, score=0.784 total time=   0.5s\n",
            "[CV 2/5] END learning_rate=0.01, max_depth=6, n_estimators=300;, score=0.812 total time=   0.4s\n",
            "[CV 3/5] END learning_rate=0.01, max_depth=6, n_estimators=300;, score=0.823 total time=   0.4s\n",
            "[CV 4/5] END learning_rate=0.01, max_depth=6, n_estimators=300;, score=0.823 total time=   0.4s\n",
            "[CV 5/5] END learning_rate=0.01, max_depth=6, n_estimators=300;, score=0.840 total time=   0.4s\n",
            "[CV 1/5] END learning_rate=0.01, max_depth=6, n_estimators=400;, score=0.780 total time=   0.6s\n",
            "[CV 2/5] END learning_rate=0.01, max_depth=6, n_estimators=400;, score=0.830 total time=   0.6s\n",
            "[CV 3/5] END learning_rate=0.01, max_depth=6, n_estimators=400;, score=0.826 total time=   0.6s\n",
            "[CV 4/5] END learning_rate=0.01, max_depth=6, n_estimators=400;, score=0.833 total time=   0.6s\n",
            "[CV 5/5] END learning_rate=0.01, max_depth=6, n_estimators=400;, score=0.847 total time=   0.6s\n",
            "[CV 1/5] END learning_rate=0.01, max_depth=6, n_estimators=500;, score=0.787 total time=   0.7s\n",
            "[CV 2/5] END learning_rate=0.01, max_depth=6, n_estimators=500;, score=0.840 total time=   0.7s\n",
            "[CV 3/5] END learning_rate=0.01, max_depth=6, n_estimators=500;, score=0.833 total time=   0.7s\n",
            "[CV 4/5] END learning_rate=0.01, max_depth=6, n_estimators=500;, score=0.844 total time=   0.7s\n",
            "[CV 5/5] END learning_rate=0.01, max_depth=6, n_estimators=500;, score=0.854 total time=   0.7s\n",
            "[CV 1/5] END learning_rate=0.01, max_depth=7, n_estimators=100;, score=0.794 total time=   0.2s\n",
            "[CV 2/5] END learning_rate=0.01, max_depth=7, n_estimators=100;, score=0.801 total time=   0.2s\n",
            "[CV 3/5] END learning_rate=0.01, max_depth=7, n_estimators=100;, score=0.844 total time=   0.2s\n",
            "[CV 4/5] END learning_rate=0.01, max_depth=7, n_estimators=100;, score=0.823 total time=   0.2s\n",
            "[CV 5/5] END learning_rate=0.01, max_depth=7, n_estimators=100;, score=0.833 total time=   0.2s\n",
            "[CV 1/5] END learning_rate=0.01, max_depth=7, n_estimators=200;, score=0.777 total time=   0.4s\n",
            "[CV 2/5] END learning_rate=0.01, max_depth=7, n_estimators=200;, score=0.823 total time=   0.3s\n",
            "[CV 3/5] END learning_rate=0.01, max_depth=7, n_estimators=200;, score=0.840 total time=   0.4s\n",
            "[CV 4/5] END learning_rate=0.01, max_depth=7, n_estimators=200;, score=0.833 total time=   0.3s\n",
            "[CV 5/5] END learning_rate=0.01, max_depth=7, n_estimators=200;, score=0.851 total time=   0.4s\n",
            "[CV 1/5] END learning_rate=0.01, max_depth=7, n_estimators=300;, score=0.777 total time=   0.5s\n",
            "[CV 2/5] END learning_rate=0.01, max_depth=7, n_estimators=300;, score=0.840 total time=   0.5s\n",
            "[CV 3/5] END learning_rate=0.01, max_depth=7, n_estimators=300;, score=0.848 total time=   0.5s\n",
            "[CV 4/5] END learning_rate=0.01, max_depth=7, n_estimators=300;, score=0.833 total time=   0.5s\n",
            "[CV 5/5] END learning_rate=0.01, max_depth=7, n_estimators=300;, score=0.851 total time=   0.5s\n",
            "[CV 1/5] END learning_rate=0.01, max_depth=7, n_estimators=400;, score=0.784 total time=   0.7s\n",
            "[CV 2/5] END learning_rate=0.01, max_depth=7, n_estimators=400;, score=0.858 total time=   0.7s\n",
            "[CV 3/5] END learning_rate=0.01, max_depth=7, n_estimators=400;, score=0.837 total time=   0.7s\n",
            "[CV 4/5] END learning_rate=0.01, max_depth=7, n_estimators=400;, score=0.844 total time=   0.6s\n",
            "[CV 5/5] END learning_rate=0.01, max_depth=7, n_estimators=400;, score=0.858 total time=   0.7s\n",
            "[CV 1/5] END learning_rate=0.01, max_depth=7, n_estimators=500;, score=0.798 total time=   0.8s\n",
            "[CV 2/5] END learning_rate=0.01, max_depth=7, n_estimators=500;, score=0.862 total time=   0.8s\n",
            "[CV 3/5] END learning_rate=0.01, max_depth=7, n_estimators=500;, score=0.833 total time=   0.8s\n",
            "[CV 4/5] END learning_rate=0.01, max_depth=7, n_estimators=500;, score=0.840 total time=   0.8s\n",
            "[CV 5/5] END learning_rate=0.01, max_depth=7, n_estimators=500;, score=0.843 total time=   0.8s\n",
            "[CV 1/5] END learning_rate=0.1, max_depth=3, n_estimators=100;, score=0.770 total time=   0.1s\n",
            "[CV 2/5] END learning_rate=0.1, max_depth=3, n_estimators=100;, score=0.826 total time=   0.1s\n",
            "[CV 3/5] END learning_rate=0.1, max_depth=3, n_estimators=100;, score=0.819 total time=   0.1s\n",
            "[CV 4/5] END learning_rate=0.1, max_depth=3, n_estimators=100;, score=0.837 total time=   0.1s\n",
            "[CV 5/5] END learning_rate=0.1, max_depth=3, n_estimators=100;, score=0.836 total time=   0.1s\n",
            "[CV 1/5] END learning_rate=0.1, max_depth=3, n_estimators=200;, score=0.784 total time=   0.2s\n",
            "[CV 2/5] END learning_rate=0.1, max_depth=3, n_estimators=200;, score=0.869 total time=   0.2s\n",
            "[CV 3/5] END learning_rate=0.1, max_depth=3, n_estimators=200;, score=0.833 total time=   0.2s\n",
            "[CV 4/5] END learning_rate=0.1, max_depth=3, n_estimators=200;, score=0.837 total time=   0.2s\n",
            "[CV 5/5] END learning_rate=0.1, max_depth=3, n_estimators=200;, score=0.840 total time=   0.2s\n",
            "[CV 1/5] END learning_rate=0.1, max_depth=3, n_estimators=300;, score=0.791 total time=   0.3s\n",
            "[CV 2/5] END learning_rate=0.1, max_depth=3, n_estimators=300;, score=0.897 total time=   0.2s\n",
            "[CV 3/5] END learning_rate=0.1, max_depth=3, n_estimators=300;, score=0.837 total time=   0.2s\n",
            "[CV 4/5] END learning_rate=0.1, max_depth=3, n_estimators=300;, score=0.844 total time=   0.2s\n",
            "[CV 5/5] END learning_rate=0.1, max_depth=3, n_estimators=300;, score=0.843 total time=   0.2s\n",
            "[CV 1/5] END learning_rate=0.1, max_depth=3, n_estimators=400;, score=0.787 total time=   0.3s\n",
            "[CV 2/5] END learning_rate=0.1, max_depth=3, n_estimators=400;, score=0.901 total time=   0.3s\n",
            "[CV 3/5] END learning_rate=0.1, max_depth=3, n_estimators=400;, score=0.833 total time=   0.3s\n",
            "[CV 4/5] END learning_rate=0.1, max_depth=3, n_estimators=400;, score=0.848 total time=   0.3s\n",
            "[CV 5/5] END learning_rate=0.1, max_depth=3, n_estimators=400;, score=0.847 total time=   0.3s\n",
            "[CV 1/5] END learning_rate=0.1, max_depth=3, n_estimators=500;, score=0.791 total time=   0.4s\n",
            "[CV 2/5] END learning_rate=0.1, max_depth=3, n_estimators=500;, score=0.904 total time=   0.4s\n",
            "[CV 3/5] END learning_rate=0.1, max_depth=3, n_estimators=500;, score=0.837 total time=   0.4s\n",
            "[CV 4/5] END learning_rate=0.1, max_depth=3, n_estimators=500;, score=0.844 total time=   0.4s\n",
            "[CV 5/5] END learning_rate=0.1, max_depth=3, n_estimators=500;, score=0.847 total time=   0.4s\n",
            "[CV 1/5] END learning_rate=0.1, max_depth=4, n_estimators=100;, score=0.791 total time=   0.1s\n",
            "[CV 2/5] END learning_rate=0.1, max_depth=4, n_estimators=100;, score=0.844 total time=   0.1s\n",
            "[CV 3/5] END learning_rate=0.1, max_depth=4, n_estimators=100;, score=0.837 total time=   0.1s\n",
            "[CV 4/5] END learning_rate=0.1, max_depth=4, n_estimators=100;, score=0.855 total time=   0.1s\n",
            "[CV 5/5] END learning_rate=0.1, max_depth=4, n_estimators=100;, score=0.851 total time=   0.1s\n",
            "[CV 1/5] END learning_rate=0.1, max_depth=4, n_estimators=200;, score=0.801 total time=   0.2s\n",
            "[CV 2/5] END learning_rate=0.1, max_depth=4, n_estimators=200;, score=0.887 total time=   0.2s\n",
            "[CV 3/5] END learning_rate=0.1, max_depth=4, n_estimators=200;, score=0.837 total time=   0.2s\n",
            "[CV 4/5] END learning_rate=0.1, max_depth=4, n_estimators=200;, score=0.851 total time=   0.2s\n",
            "[CV 5/5] END learning_rate=0.1, max_depth=4, n_estimators=200;, score=0.847 total time=   0.2s\n",
            "[CV 1/5] END learning_rate=0.1, max_depth=4, n_estimators=300;, score=0.812 total time=   0.3s\n",
            "[CV 2/5] END learning_rate=0.1, max_depth=4, n_estimators=300;, score=0.890 total time=   0.3s\n",
            "[CV 3/5] END learning_rate=0.1, max_depth=4, n_estimators=300;, score=0.840 total time=   0.3s\n",
            "[CV 4/5] END learning_rate=0.1, max_depth=4, n_estimators=300;, score=0.844 total time=   0.3s\n",
            "[CV 5/5] END learning_rate=0.1, max_depth=4, n_estimators=300;, score=0.843 total time=   0.3s\n",
            "[CV 1/5] END learning_rate=0.1, max_depth=4, n_estimators=400;, score=0.812 total time=   0.4s\n",
            "[CV 2/5] END learning_rate=0.1, max_depth=4, n_estimators=400;, score=0.890 total time=   0.4s\n",
            "[CV 3/5] END learning_rate=0.1, max_depth=4, n_estimators=400;, score=0.837 total time=   0.4s\n",
            "[CV 4/5] END learning_rate=0.1, max_depth=4, n_estimators=400;, score=0.851 total time=   0.4s\n",
            "[CV 5/5] END learning_rate=0.1, max_depth=4, n_estimators=400;, score=0.843 total time=   0.4s\n",
            "[CV 1/5] END learning_rate=0.1, max_depth=4, n_estimators=500;, score=0.809 total time=   0.5s\n",
            "[CV 2/5] END learning_rate=0.1, max_depth=4, n_estimators=500;, score=0.890 total time=   0.5s\n",
            "[CV 3/5] END learning_rate=0.1, max_depth=4, n_estimators=500;, score=0.837 total time=   0.5s\n",
            "[CV 4/5] END learning_rate=0.1, max_depth=4, n_estimators=500;, score=0.851 total time=   0.5s\n",
            "[CV 5/5] END learning_rate=0.1, max_depth=4, n_estimators=500;, score=0.843 total time=   0.5s\n",
            "[CV 1/5] END learning_rate=0.1, max_depth=5, n_estimators=100;, score=0.794 total time=   0.1s\n",
            "[CV 2/5] END learning_rate=0.1, max_depth=5, n_estimators=100;, score=0.879 total time=   0.1s\n",
            "[CV 3/5] END learning_rate=0.1, max_depth=5, n_estimators=100;, score=0.830 total time=   0.1s\n",
            "[CV 4/5] END learning_rate=0.1, max_depth=5, n_estimators=100;, score=0.851 total time=   0.1s\n",
            "[CV 5/5] END learning_rate=0.1, max_depth=5, n_estimators=100;, score=0.840 total time=   0.1s\n",
            "[CV 1/5] END learning_rate=0.1, max_depth=5, n_estimators=200;, score=0.816 total time=   0.2s\n",
            "[CV 2/5] END learning_rate=0.1, max_depth=5, n_estimators=200;, score=0.915 total time=   0.2s\n",
            "[CV 3/5] END learning_rate=0.1, max_depth=5, n_estimators=200;, score=0.830 total time=   0.2s\n",
            "[CV 4/5] END learning_rate=0.1, max_depth=5, n_estimators=200;, score=0.858 total time=   0.2s\n",
            "[CV 5/5] END learning_rate=0.1, max_depth=5, n_estimators=200;, score=0.851 total time=   0.2s\n",
            "[CV 1/5] END learning_rate=0.1, max_depth=5, n_estimators=300;, score=0.816 total time=   0.3s\n",
            "[CV 2/5] END learning_rate=0.1, max_depth=5, n_estimators=300;, score=0.904 total time=   0.3s\n",
            "[CV 3/5] END learning_rate=0.1, max_depth=5, n_estimators=300;, score=0.830 total time=   0.4s\n",
            "[CV 4/5] END learning_rate=0.1, max_depth=5, n_estimators=300;, score=0.855 total time=   0.3s\n",
            "[CV 5/5] END learning_rate=0.1, max_depth=5, n_estimators=300;, score=0.843 total time=   0.3s\n",
            "[CV 1/5] END learning_rate=0.1, max_depth=5, n_estimators=400;, score=0.812 total time=   0.5s\n",
            "[CV 2/5] END learning_rate=0.1, max_depth=5, n_estimators=400;, score=0.904 total time=   0.4s\n",
            "[CV 3/5] END learning_rate=0.1, max_depth=5, n_estimators=400;, score=0.833 total time=   0.5s\n",
            "[CV 4/5] END learning_rate=0.1, max_depth=5, n_estimators=400;, score=0.858 total time=   0.4s\n",
            "[CV 5/5] END learning_rate=0.1, max_depth=5, n_estimators=400;, score=0.843 total time=   0.5s\n",
            "[CV 1/5] END learning_rate=0.1, max_depth=5, n_estimators=500;, score=0.809 total time=   0.5s\n",
            "[CV 2/5] END learning_rate=0.1, max_depth=5, n_estimators=500;, score=0.897 total time=   0.6s\n",
            "[CV 3/5] END learning_rate=0.1, max_depth=5, n_estimators=500;, score=0.833 total time=   0.5s\n",
            "[CV 4/5] END learning_rate=0.1, max_depth=5, n_estimators=500;, score=0.855 total time=   0.6s\n",
            "[CV 5/5] END learning_rate=0.1, max_depth=5, n_estimators=500;, score=0.843 total time=   0.6s\n",
            "[CV 1/5] END learning_rate=0.1, max_depth=6, n_estimators=100;, score=0.805 total time=   0.1s\n",
            "[CV 2/5] END learning_rate=0.1, max_depth=6, n_estimators=100;, score=0.887 total time=   0.1s\n",
            "[CV 3/5] END learning_rate=0.1, max_depth=6, n_estimators=100;, score=0.830 total time=   0.1s\n",
            "[CV 4/5] END learning_rate=0.1, max_depth=6, n_estimators=100;, score=0.851 total time=   0.1s\n",
            "[CV 5/5] END learning_rate=0.1, max_depth=6, n_estimators=100;, score=0.829 total time=   0.1s\n",
            "[CV 1/5] END learning_rate=0.1, max_depth=6, n_estimators=200;, score=0.801 total time=   0.3s\n",
            "[CV 2/5] END learning_rate=0.1, max_depth=6, n_estimators=200;, score=0.894 total time=   0.3s\n",
            "[CV 3/5] END learning_rate=0.1, max_depth=6, n_estimators=200;, score=0.826 total time=   0.3s\n",
            "[CV 4/5] END learning_rate=0.1, max_depth=6, n_estimators=200;, score=0.858 total time=   0.3s\n",
            "[CV 5/5] END learning_rate=0.1, max_depth=6, n_estimators=200;, score=0.851 total time=   0.3s\n",
            "[CV 1/5] END learning_rate=0.1, max_depth=6, n_estimators=300;, score=0.798 total time=   0.4s\n",
            "[CV 2/5] END learning_rate=0.1, max_depth=6, n_estimators=300;, score=0.897 total time=   0.4s\n",
            "[CV 3/5] END learning_rate=0.1, max_depth=6, n_estimators=300;, score=0.833 total time=   0.4s\n",
            "[CV 4/5] END learning_rate=0.1, max_depth=6, n_estimators=300;, score=0.869 total time=   0.4s\n",
            "[CV 5/5] END learning_rate=0.1, max_depth=6, n_estimators=300;, score=0.836 total time=   0.4s\n",
            "[CV 1/5] END learning_rate=0.1, max_depth=6, n_estimators=400;, score=0.801 total time=   0.5s\n",
            "[CV 2/5] END learning_rate=0.1, max_depth=6, n_estimators=400;, score=0.897 total time=   0.5s\n",
            "[CV 3/5] END learning_rate=0.1, max_depth=6, n_estimators=400;, score=0.837 total time=   0.5s\n",
            "[CV 4/5] END learning_rate=0.1, max_depth=6, n_estimators=400;, score=0.869 total time=   0.5s\n",
            "[CV 5/5] END learning_rate=0.1, max_depth=6, n_estimators=400;, score=0.829 total time=   0.5s\n",
            "[CV 1/5] END learning_rate=0.1, max_depth=6, n_estimators=500;, score=0.801 total time=   0.6s\n",
            "[CV 2/5] END learning_rate=0.1, max_depth=6, n_estimators=500;, score=0.901 total time=   0.6s\n",
            "[CV 3/5] END learning_rate=0.1, max_depth=6, n_estimators=500;, score=0.837 total time=   0.6s\n",
            "[CV 4/5] END learning_rate=0.1, max_depth=6, n_estimators=500;, score=0.869 total time=   0.6s\n",
            "[CV 5/5] END learning_rate=0.1, max_depth=6, n_estimators=500;, score=0.833 total time=   0.6s\n",
            "[CV 1/5] END learning_rate=0.1, max_depth=7, n_estimators=100;, score=0.826 total time=   0.2s\n",
            "[CV 2/5] END learning_rate=0.1, max_depth=7, n_estimators=100;, score=0.901 total time=   0.2s\n",
            "[CV 3/5] END learning_rate=0.1, max_depth=7, n_estimators=100;, score=0.819 total time=   0.2s\n",
            "[CV 4/5] END learning_rate=0.1, max_depth=7, n_estimators=100;, score=0.840 total time=   0.2s\n",
            "[CV 5/5] END learning_rate=0.1, max_depth=7, n_estimators=100;, score=0.833 total time=   0.2s\n",
            "[CV 1/5] END learning_rate=0.1, max_depth=7, n_estimators=200;, score=0.801 total time=   0.3s\n",
            "[CV 2/5] END learning_rate=0.1, max_depth=7, n_estimators=200;, score=0.908 total time=   0.3s\n",
            "[CV 3/5] END learning_rate=0.1, max_depth=7, n_estimators=200;, score=0.833 total time=   0.3s\n",
            "[CV 4/5] END learning_rate=0.1, max_depth=7, n_estimators=200;, score=0.865 total time=   0.3s\n",
            "[CV 5/5] END learning_rate=0.1, max_depth=7, n_estimators=200;, score=0.826 total time=   0.3s\n",
            "[CV 1/5] END learning_rate=0.1, max_depth=7, n_estimators=300;, score=0.794 total time=   0.5s\n",
            "[CV 2/5] END learning_rate=0.1, max_depth=7, n_estimators=300;, score=0.897 total time=   0.4s\n",
            "[CV 3/5] END learning_rate=0.1, max_depth=7, n_estimators=300;, score=0.826 total time=   0.4s\n",
            "[CV 4/5] END learning_rate=0.1, max_depth=7, n_estimators=300;, score=0.872 total time=   0.4s\n",
            "[CV 5/5] END learning_rate=0.1, max_depth=7, n_estimators=300;, score=0.829 total time=   0.5s\n",
            "[CV 1/5] END learning_rate=0.1, max_depth=7, n_estimators=400;, score=0.805 total time=   0.6s\n",
            "[CV 2/5] END learning_rate=0.1, max_depth=7, n_estimators=400;, score=0.901 total time=   0.6s\n",
            "[CV 3/5] END learning_rate=0.1, max_depth=7, n_estimators=400;, score=0.833 total time=   0.6s\n",
            "[CV 4/5] END learning_rate=0.1, max_depth=7, n_estimators=400;, score=0.869 total time=   0.6s\n",
            "[CV 5/5] END learning_rate=0.1, max_depth=7, n_estimators=400;, score=0.829 total time=   0.6s\n",
            "[CV 1/5] END learning_rate=0.1, max_depth=7, n_estimators=500;, score=0.805 total time=   0.7s\n",
            "[CV 2/5] END learning_rate=0.1, max_depth=7, n_estimators=500;, score=0.897 total time=   0.7s\n",
            "[CV 3/5] END learning_rate=0.1, max_depth=7, n_estimators=500;, score=0.837 total time=   0.7s\n",
            "[CV 4/5] END learning_rate=0.1, max_depth=7, n_estimators=500;, score=0.869 total time=   0.7s\n",
            "[CV 5/5] END learning_rate=0.1, max_depth=7, n_estimators=500;, score=0.826 total time=   0.7s\n",
            "[CV 1/5] END learning_rate=0.2, max_depth=3, n_estimators=100;, score=0.784 total time=   0.1s\n",
            "[CV 2/5] END learning_rate=0.2, max_depth=3, n_estimators=100;, score=0.869 total time=   0.1s\n",
            "[CV 3/5] END learning_rate=0.2, max_depth=3, n_estimators=100;, score=0.840 total time=   0.1s\n",
            "[CV 4/5] END learning_rate=0.2, max_depth=3, n_estimators=100;, score=0.855 total time=   0.1s\n",
            "[CV 5/5] END learning_rate=0.2, max_depth=3, n_estimators=100;, score=0.833 total time=   0.1s\n",
            "[CV 1/5] END learning_rate=0.2, max_depth=3, n_estimators=200;, score=0.798 total time=   0.2s\n",
            "[CV 2/5] END learning_rate=0.2, max_depth=3, n_estimators=200;, score=0.883 total time=   0.2s\n",
            "[CV 3/5] END learning_rate=0.2, max_depth=3, n_estimators=200;, score=0.837 total time=   0.2s\n",
            "[CV 4/5] END learning_rate=0.2, max_depth=3, n_estimators=200;, score=0.851 total time=   0.2s\n",
            "[CV 5/5] END learning_rate=0.2, max_depth=3, n_estimators=200;, score=0.840 total time=   0.2s\n",
            "[CV 1/5] END learning_rate=0.2, max_depth=3, n_estimators=300;, score=0.798 total time=   0.2s\n",
            "[CV 2/5] END learning_rate=0.2, max_depth=3, n_estimators=300;, score=0.890 total time=   0.2s\n",
            "[CV 3/5] END learning_rate=0.2, max_depth=3, n_estimators=300;, score=0.837 total time=   0.2s\n",
            "[CV 4/5] END learning_rate=0.2, max_depth=3, n_estimators=300;, score=0.848 total time=   0.2s\n",
            "[CV 5/5] END learning_rate=0.2, max_depth=3, n_estimators=300;, score=0.829 total time=   0.2s\n",
            "[CV 1/5] END learning_rate=0.2, max_depth=3, n_estimators=400;, score=0.798 total time=   0.3s\n",
            "[CV 2/5] END learning_rate=0.2, max_depth=3, n_estimators=400;, score=0.897 total time=   0.3s\n",
            "[CV 3/5] END learning_rate=0.2, max_depth=3, n_estimators=400;, score=0.837 total time=   0.3s\n",
            "[CV 4/5] END learning_rate=0.2, max_depth=3, n_estimators=400;, score=0.851 total time=   0.3s\n",
            "[CV 5/5] END learning_rate=0.2, max_depth=3, n_estimators=400;, score=0.826 total time=   0.3s\n",
            "[CV 1/5] END learning_rate=0.2, max_depth=3, n_estimators=500;, score=0.794 total time=   0.4s\n",
            "[CV 2/5] END learning_rate=0.2, max_depth=3, n_estimators=500;, score=0.897 total time=   0.4s\n",
            "[CV 3/5] END learning_rate=0.2, max_depth=3, n_estimators=500;, score=0.830 total time=   0.4s\n",
            "[CV 4/5] END learning_rate=0.2, max_depth=3, n_estimators=500;, score=0.855 total time=   0.4s\n",
            "[CV 5/5] END learning_rate=0.2, max_depth=3, n_estimators=500;, score=0.822 total time=   0.4s\n",
            "[CV 1/5] END learning_rate=0.2, max_depth=4, n_estimators=100;, score=0.794 total time=   0.1s\n",
            "[CV 2/5] END learning_rate=0.2, max_depth=4, n_estimators=100;, score=0.897 total time=   0.1s\n",
            "[CV 3/5] END learning_rate=0.2, max_depth=4, n_estimators=100;, score=0.837 total time=   0.1s\n",
            "[CV 4/5] END learning_rate=0.2, max_depth=4, n_estimators=100;, score=0.848 total time=   0.1s\n",
            "[CV 5/5] END learning_rate=0.2, max_depth=4, n_estimators=100;, score=0.840 total time=   0.1s\n",
            "[CV 1/5] END learning_rate=0.2, max_depth=4, n_estimators=200;, score=0.787 total time=   0.2s\n",
            "[CV 2/5] END learning_rate=0.2, max_depth=4, n_estimators=200;, score=0.890 total time=   0.2s\n",
            "[CV 3/5] END learning_rate=0.2, max_depth=4, n_estimators=200;, score=0.837 total time=   0.2s\n",
            "[CV 4/5] END learning_rate=0.2, max_depth=4, n_estimators=200;, score=0.851 total time=   0.2s\n",
            "[CV 5/5] END learning_rate=0.2, max_depth=4, n_estimators=200;, score=0.851 total time=   0.2s\n",
            "[CV 1/5] END learning_rate=0.2, max_depth=4, n_estimators=300;, score=0.780 total time=   0.3s\n",
            "[CV 2/5] END learning_rate=0.2, max_depth=4, n_estimators=300;, score=0.887 total time=   0.3s\n",
            "[CV 3/5] END learning_rate=0.2, max_depth=4, n_estimators=300;, score=0.848 total time=   0.3s\n",
            "[CV 4/5] END learning_rate=0.2, max_depth=4, n_estimators=300;, score=0.858 total time=   0.3s\n",
            "[CV 5/5] END learning_rate=0.2, max_depth=4, n_estimators=300;, score=0.843 total time=   0.3s\n",
            "[CV 1/5] END learning_rate=0.2, max_depth=4, n_estimators=400;, score=0.787 total time=   0.4s\n",
            "[CV 2/5] END learning_rate=0.2, max_depth=4, n_estimators=400;, score=0.890 total time=   0.4s\n",
            "[CV 3/5] END learning_rate=0.2, max_depth=4, n_estimators=400;, score=0.858 total time=   0.4s\n",
            "[CV 4/5] END learning_rate=0.2, max_depth=4, n_estimators=400;, score=0.858 total time=   0.4s\n",
            "[CV 5/5] END learning_rate=0.2, max_depth=4, n_estimators=400;, score=0.833 total time=   0.4s\n",
            "[CV 1/5] END learning_rate=0.2, max_depth=4, n_estimators=500;, score=0.787 total time=   0.5s\n",
            "[CV 2/5] END learning_rate=0.2, max_depth=4, n_estimators=500;, score=0.883 total time=   0.5s\n",
            "[CV 3/5] END learning_rate=0.2, max_depth=4, n_estimators=500;, score=0.865 total time=   0.5s\n",
            "[CV 4/5] END learning_rate=0.2, max_depth=4, n_estimators=500;, score=0.872 total time=   0.5s\n",
            "[CV 5/5] END learning_rate=0.2, max_depth=4, n_estimators=500;, score=0.833 total time=   0.5s\n",
            "[CV 1/5] END learning_rate=0.2, max_depth=5, n_estimators=100;, score=0.809 total time=   0.1s\n",
            "[CV 2/5] END learning_rate=0.2, max_depth=5, n_estimators=100;, score=0.879 total time=   0.1s\n",
            "[CV 3/5] END learning_rate=0.2, max_depth=5, n_estimators=100;, score=0.833 total time=   0.1s\n",
            "[CV 4/5] END learning_rate=0.2, max_depth=5, n_estimators=100;, score=0.862 total time=   0.1s\n",
            "[CV 5/5] END learning_rate=0.2, max_depth=5, n_estimators=100;, score=0.840 total time=   0.1s\n",
            "[CV 1/5] END learning_rate=0.2, max_depth=5, n_estimators=200;, score=0.809 total time=   0.2s\n",
            "[CV 2/5] END learning_rate=0.2, max_depth=5, n_estimators=200;, score=0.890 total time=   0.2s\n",
            "[CV 3/5] END learning_rate=0.2, max_depth=5, n_estimators=200;, score=0.833 total time=   0.2s\n",
            "[CV 4/5] END learning_rate=0.2, max_depth=5, n_estimators=200;, score=0.865 total time=   0.2s\n",
            "[CV 5/5] END learning_rate=0.2, max_depth=5, n_estimators=200;, score=0.829 total time=   0.2s\n",
            "[CV 1/5] END learning_rate=0.2, max_depth=5, n_estimators=300;, score=0.805 total time=   0.3s\n",
            "[CV 2/5] END learning_rate=0.2, max_depth=5, n_estimators=300;, score=0.890 total time=   0.3s\n",
            "[CV 3/5] END learning_rate=0.2, max_depth=5, n_estimators=300;, score=0.840 total time=   0.3s\n",
            "[CV 4/5] END learning_rate=0.2, max_depth=5, n_estimators=300;, score=0.872 total time=   0.3s\n",
            "[CV 5/5] END learning_rate=0.2, max_depth=5, n_estimators=300;, score=0.822 total time=   0.3s\n",
            "[CV 1/5] END learning_rate=0.2, max_depth=5, n_estimators=400;, score=0.809 total time=   0.4s\n",
            "[CV 2/5] END learning_rate=0.2, max_depth=5, n_estimators=400;, score=0.890 total time=   0.4s\n",
            "[CV 3/5] END learning_rate=0.2, max_depth=5, n_estimators=400;, score=0.848 total time=   0.4s\n",
            "[CV 4/5] END learning_rate=0.2, max_depth=5, n_estimators=400;, score=0.876 total time=   0.4s\n",
            "[CV 5/5] END learning_rate=0.2, max_depth=5, n_estimators=400;, score=0.833 total time=   0.4s\n",
            "[CV 1/5] END learning_rate=0.2, max_depth=5, n_estimators=500;, score=0.809 total time=   0.5s\n",
            "[CV 2/5] END learning_rate=0.2, max_depth=5, n_estimators=500;, score=0.890 total time=   0.5s\n",
            "[CV 3/5] END learning_rate=0.2, max_depth=5, n_estimators=500;, score=0.844 total time=   0.5s\n",
            "[CV 4/5] END learning_rate=0.2, max_depth=5, n_estimators=500;, score=0.869 total time=   0.5s\n",
            "[CV 5/5] END learning_rate=0.2, max_depth=5, n_estimators=500;, score=0.836 total time=   0.5s\n",
            "[CV 1/5] END learning_rate=0.2, max_depth=6, n_estimators=100;, score=0.798 total time=   0.1s\n",
            "[CV 2/5] END learning_rate=0.2, max_depth=6, n_estimators=100;, score=0.890 total time=   0.1s\n",
            "[CV 3/5] END learning_rate=0.2, max_depth=6, n_estimators=100;, score=0.816 total time=   0.1s\n",
            "[CV 4/5] END learning_rate=0.2, max_depth=6, n_estimators=100;, score=0.855 total time=   0.1s\n",
            "[CV 5/5] END learning_rate=0.2, max_depth=6, n_estimators=100;, score=0.826 total time=   0.1s\n",
            "[CV 1/5] END learning_rate=0.2, max_depth=6, n_estimators=200;, score=0.791 total time=   0.3s\n",
            "[CV 2/5] END learning_rate=0.2, max_depth=6, n_estimators=200;, score=0.890 total time=   0.3s\n",
            "[CV 3/5] END learning_rate=0.2, max_depth=6, n_estimators=200;, score=0.837 total time=   0.3s\n",
            "[CV 4/5] END learning_rate=0.2, max_depth=6, n_estimators=200;, score=0.855 total time=   0.3s\n",
            "[CV 5/5] END learning_rate=0.2, max_depth=6, n_estimators=200;, score=0.829 total time=   0.3s\n",
            "[CV 1/5] END learning_rate=0.2, max_depth=6, n_estimators=300;, score=0.801 total time=   0.4s\n",
            "[CV 2/5] END learning_rate=0.2, max_depth=6, n_estimators=300;, score=0.897 total time=   0.4s\n",
            "[CV 3/5] END learning_rate=0.2, max_depth=6, n_estimators=300;, score=0.837 total time=   0.4s\n",
            "[CV 4/5] END learning_rate=0.2, max_depth=6, n_estimators=300;, score=0.851 total time=   0.4s\n",
            "[CV 5/5] END learning_rate=0.2, max_depth=6, n_estimators=300;, score=0.829 total time=   0.4s\n",
            "[CV 1/5] END learning_rate=0.2, max_depth=6, n_estimators=400;, score=0.812 total time=   0.5s\n",
            "[CV 2/5] END learning_rate=0.2, max_depth=6, n_estimators=400;, score=0.897 total time=   0.5s\n",
            "[CV 3/5] END learning_rate=0.2, max_depth=6, n_estimators=400;, score=0.848 total time=   0.5s\n",
            "[CV 4/5] END learning_rate=0.2, max_depth=6, n_estimators=400;, score=0.862 total time=   0.5s\n",
            "[CV 5/5] END learning_rate=0.2, max_depth=6, n_estimators=400;, score=0.836 total time=   0.5s\n",
            "[CV 1/5] END learning_rate=0.2, max_depth=6, n_estimators=500;, score=0.812 total time=   0.6s\n",
            "[CV 2/5] END learning_rate=0.2, max_depth=6, n_estimators=500;, score=0.897 total time=   0.6s\n",
            "[CV 3/5] END learning_rate=0.2, max_depth=6, n_estimators=500;, score=0.848 total time=   0.6s\n",
            "[CV 4/5] END learning_rate=0.2, max_depth=6, n_estimators=500;, score=0.855 total time=   0.6s\n",
            "[CV 5/5] END learning_rate=0.2, max_depth=6, n_estimators=500;, score=0.836 total time=   0.6s\n",
            "[CV 1/5] END learning_rate=0.2, max_depth=7, n_estimators=100;, score=0.805 total time=   0.2s\n",
            "[CV 2/5] END learning_rate=0.2, max_depth=7, n_estimators=100;, score=0.890 total time=   0.2s\n",
            "[CV 3/5] END learning_rate=0.2, max_depth=7, n_estimators=100;, score=0.833 total time=   0.2s\n",
            "[CV 4/5] END learning_rate=0.2, max_depth=7, n_estimators=100;, score=0.858 total time=   0.2s\n",
            "[CV 5/5] END learning_rate=0.2, max_depth=7, n_estimators=100;, score=0.829 total time=   0.2s\n",
            "[CV 1/5] END learning_rate=0.2, max_depth=7, n_estimators=200;, score=0.812 total time=   0.3s\n",
            "[CV 2/5] END learning_rate=0.2, max_depth=7, n_estimators=200;, score=0.897 total time=   0.3s\n",
            "[CV 3/5] END learning_rate=0.2, max_depth=7, n_estimators=200;, score=0.848 total time=   0.3s\n",
            "[CV 4/5] END learning_rate=0.2, max_depth=7, n_estimators=200;, score=0.872 total time=   0.3s\n",
            "[CV 5/5] END learning_rate=0.2, max_depth=7, n_estimators=200;, score=0.833 total time=   0.3s\n",
            "[CV 1/5] END learning_rate=0.2, max_depth=7, n_estimators=300;, score=0.812 total time=   0.4s\n",
            "[CV 2/5] END learning_rate=0.2, max_depth=7, n_estimators=300;, score=0.887 total time=   0.4s\n",
            "[CV 3/5] END learning_rate=0.2, max_depth=7, n_estimators=300;, score=0.844 total time=   0.4s\n",
            "[CV 4/5] END learning_rate=0.2, max_depth=7, n_estimators=300;, score=0.865 total time=   0.4s\n",
            "[CV 5/5] END learning_rate=0.2, max_depth=7, n_estimators=300;, score=0.836 total time=   0.4s\n",
            "[CV 1/5] END learning_rate=0.2, max_depth=7, n_estimators=400;, score=0.816 total time=   0.5s\n",
            "[CV 2/5] END learning_rate=0.2, max_depth=7, n_estimators=400;, score=0.894 total time=   0.5s\n",
            "[CV 3/5] END learning_rate=0.2, max_depth=7, n_estimators=400;, score=0.848 total time=   0.5s\n",
            "[CV 4/5] END learning_rate=0.2, max_depth=7, n_estimators=400;, score=0.869 total time=   0.5s\n",
            "[CV 5/5] END learning_rate=0.2, max_depth=7, n_estimators=400;, score=0.836 total time=   0.5s\n",
            "[CV 1/5] END learning_rate=0.2, max_depth=7, n_estimators=500;, score=0.812 total time=   0.6s\n",
            "[CV 2/5] END learning_rate=0.2, max_depth=7, n_estimators=500;, score=0.901 total time=   0.6s\n",
            "[CV 3/5] END learning_rate=0.2, max_depth=7, n_estimators=500;, score=0.848 total time=   0.6s\n",
            "[CV 4/5] END learning_rate=0.2, max_depth=7, n_estimators=500;, score=0.862 total time=   0.6s\n",
            "[CV 5/5] END learning_rate=0.2, max_depth=7, n_estimators=500;, score=0.840 total time=   0.6s\n",
            "[CV 1/5] END learning_rate=0.3, max_depth=3, n_estimators=100;, score=0.791 total time=   0.1s\n",
            "[CV 2/5] END learning_rate=0.3, max_depth=3, n_estimators=100;, score=0.876 total time=   0.1s\n",
            "[CV 3/5] END learning_rate=0.3, max_depth=3, n_estimators=100;, score=0.840 total time=   0.1s\n",
            "[CV 4/5] END learning_rate=0.3, max_depth=3, n_estimators=100;, score=0.865 total time=   0.1s\n",
            "[CV 5/5] END learning_rate=0.3, max_depth=3, n_estimators=100;, score=0.843 total time=   0.1s\n",
            "[CV 1/5] END learning_rate=0.3, max_depth=3, n_estimators=200;, score=0.805 total time=   0.2s\n",
            "[CV 2/5] END learning_rate=0.3, max_depth=3, n_estimators=200;, score=0.894 total time=   0.2s\n",
            "[CV 3/5] END learning_rate=0.3, max_depth=3, n_estimators=200;, score=0.840 total time=   0.2s\n",
            "[CV 4/5] END learning_rate=0.3, max_depth=3, n_estimators=200;, score=0.865 total time=   0.2s\n",
            "[CV 5/5] END learning_rate=0.3, max_depth=3, n_estimators=200;, score=0.829 total time=   0.2s\n",
            "[CV 1/5] END learning_rate=0.3, max_depth=3, n_estimators=300;, score=0.812 total time=   0.2s\n",
            "[CV 2/5] END learning_rate=0.3, max_depth=3, n_estimators=300;, score=0.876 total time=   0.2s\n",
            "[CV 3/5] END learning_rate=0.3, max_depth=3, n_estimators=300;, score=0.833 total time=   0.2s\n",
            "[CV 4/5] END learning_rate=0.3, max_depth=3, n_estimators=300;, score=0.858 total time=   0.2s\n",
            "[CV 5/5] END learning_rate=0.3, max_depth=3, n_estimators=300;, score=0.836 total time=   0.2s\n",
            "[CV 1/5] END learning_rate=0.3, max_depth=3, n_estimators=400;, score=0.809 total time=   0.3s\n",
            "[CV 2/5] END learning_rate=0.3, max_depth=3, n_estimators=400;, score=0.869 total time=   0.3s\n",
            "[CV 3/5] END learning_rate=0.3, max_depth=3, n_estimators=400;, score=0.844 total time=   0.3s\n",
            "[CV 4/5] END learning_rate=0.3, max_depth=3, n_estimators=400;, score=0.862 total time=   0.3s\n",
            "[CV 5/5] END learning_rate=0.3, max_depth=3, n_estimators=400;, score=0.829 total time=   0.3s\n",
            "[CV 1/5] END learning_rate=0.3, max_depth=3, n_estimators=500;, score=0.801 total time=   0.4s\n",
            "[CV 2/5] END learning_rate=0.3, max_depth=3, n_estimators=500;, score=0.879 total time=   0.4s\n",
            "[CV 3/5] END learning_rate=0.3, max_depth=3, n_estimators=500;, score=0.840 total time=   0.4s\n",
            "[CV 4/5] END learning_rate=0.3, max_depth=3, n_estimators=500;, score=0.858 total time=   0.4s\n",
            "[CV 5/5] END learning_rate=0.3, max_depth=3, n_estimators=500;, score=0.829 total time=   0.4s\n",
            "[CV 1/5] END learning_rate=0.3, max_depth=4, n_estimators=100;, score=0.787 total time=   0.1s\n",
            "[CV 2/5] END learning_rate=0.3, max_depth=4, n_estimators=100;, score=0.901 total time=   0.1s\n",
            "[CV 3/5] END learning_rate=0.3, max_depth=4, n_estimators=100;, score=0.844 total time=   0.1s\n",
            "[CV 4/5] END learning_rate=0.3, max_depth=4, n_estimators=100;, score=0.837 total time=   0.1s\n",
            "[CV 5/5] END learning_rate=0.3, max_depth=4, n_estimators=100;, score=0.840 total time=   0.1s\n",
            "[CV 1/5] END learning_rate=0.3, max_depth=4, n_estimators=200;, score=0.791 total time=   0.2s\n",
            "[CV 2/5] END learning_rate=0.3, max_depth=4, n_estimators=200;, score=0.911 total time=   0.2s\n",
            "[CV 3/5] END learning_rate=0.3, max_depth=4, n_estimators=200;, score=0.844 total time=   0.2s\n",
            "[CV 4/5] END learning_rate=0.3, max_depth=4, n_estimators=200;, score=0.848 total time=   0.2s\n",
            "[CV 5/5] END learning_rate=0.3, max_depth=4, n_estimators=200;, score=0.840 total time=   0.2s\n",
            "[CV 1/5] END learning_rate=0.3, max_depth=4, n_estimators=300;, score=0.798 total time=   0.3s\n",
            "[CV 2/5] END learning_rate=0.3, max_depth=4, n_estimators=300;, score=0.904 total time=   0.3s\n",
            "[CV 3/5] END learning_rate=0.3, max_depth=4, n_estimators=300;, score=0.848 total time=   0.3s\n",
            "[CV 4/5] END learning_rate=0.3, max_depth=4, n_estimators=300;, score=0.851 total time=   0.3s\n",
            "[CV 5/5] END learning_rate=0.3, max_depth=4, n_estimators=300;, score=0.833 total time=   0.3s\n",
            "[CV 1/5] END learning_rate=0.3, max_depth=4, n_estimators=400;, score=0.791 total time=   0.4s\n",
            "[CV 2/5] END learning_rate=0.3, max_depth=4, n_estimators=400;, score=0.908 total time=   0.4s\n",
            "[CV 3/5] END learning_rate=0.3, max_depth=4, n_estimators=400;, score=0.855 total time=   0.4s\n",
            "[CV 4/5] END learning_rate=0.3, max_depth=4, n_estimators=400;, score=0.858 total time=   0.4s\n",
            "[CV 5/5] END learning_rate=0.3, max_depth=4, n_estimators=400;, score=0.833 total time=   0.4s\n",
            "[CV 1/5] END learning_rate=0.3, max_depth=4, n_estimators=500;, score=0.805 total time=   0.5s\n",
            "[CV 2/5] END learning_rate=0.3, max_depth=4, n_estimators=500;, score=0.908 total time=   0.4s\n",
            "[CV 3/5] END learning_rate=0.3, max_depth=4, n_estimators=500;, score=0.858 total time=   0.5s\n",
            "[CV 4/5] END learning_rate=0.3, max_depth=4, n_estimators=500;, score=0.858 total time=   0.4s\n",
            "[CV 5/5] END learning_rate=0.3, max_depth=4, n_estimators=500;, score=0.836 total time=   0.5s\n",
            "[CV 1/5] END learning_rate=0.3, max_depth=5, n_estimators=100;, score=0.816 total time=   0.1s\n",
            "[CV 2/5] END learning_rate=0.3, max_depth=5, n_estimators=100;, score=0.911 total time=   0.1s\n",
            "[CV 3/5] END learning_rate=0.3, max_depth=5, n_estimators=100;, score=0.833 total time=   0.1s\n",
            "[CV 4/5] END learning_rate=0.3, max_depth=5, n_estimators=100;, score=0.865 total time=   0.1s\n",
            "[CV 5/5] END learning_rate=0.3, max_depth=5, n_estimators=100;, score=0.843 total time=   0.1s\n",
            "[CV 1/5] END learning_rate=0.3, max_depth=5, n_estimators=200;, score=0.801 total time=   0.2s\n",
            "[CV 2/5] END learning_rate=0.3, max_depth=5, n_estimators=200;, score=0.890 total time=   0.2s\n",
            "[CV 3/5] END learning_rate=0.3, max_depth=5, n_estimators=200;, score=0.837 total time=   0.2s\n",
            "[CV 4/5] END learning_rate=0.3, max_depth=5, n_estimators=200;, score=0.869 total time=   0.2s\n",
            "[CV 5/5] END learning_rate=0.3, max_depth=5, n_estimators=200;, score=0.840 total time=   0.2s\n",
            "[CV 1/5] END learning_rate=0.3, max_depth=5, n_estimators=300;, score=0.819 total time=   0.3s\n",
            "[CV 2/5] END learning_rate=0.3, max_depth=5, n_estimators=300;, score=0.894 total time=   0.3s\n",
            "[CV 3/5] END learning_rate=0.3, max_depth=5, n_estimators=300;, score=0.848 total time=   0.3s\n",
            "[CV 4/5] END learning_rate=0.3, max_depth=5, n_estimators=300;, score=0.862 total time=   0.3s\n",
            "[CV 5/5] END learning_rate=0.3, max_depth=5, n_estimators=300;, score=0.836 total time=   0.3s\n",
            "[CV 1/5] END learning_rate=0.3, max_depth=5, n_estimators=400;, score=0.819 total time=   0.4s\n",
            "[CV 2/5] END learning_rate=0.3, max_depth=5, n_estimators=400;, score=0.887 total time=   0.4s\n",
            "[CV 3/5] END learning_rate=0.3, max_depth=5, n_estimators=400;, score=0.855 total time=   0.4s\n",
            "[CV 4/5] END learning_rate=0.3, max_depth=5, n_estimators=400;, score=0.865 total time=   0.4s\n",
            "[CV 5/5] END learning_rate=0.3, max_depth=5, n_estimators=400;, score=0.840 total time=   0.4s\n",
            "[CV 1/5] END learning_rate=0.3, max_depth=5, n_estimators=500;, score=0.819 total time=   0.5s\n",
            "[CV 2/5] END learning_rate=0.3, max_depth=5, n_estimators=500;, score=0.887 total time=   0.5s\n",
            "[CV 3/5] END learning_rate=0.3, max_depth=5, n_estimators=500;, score=0.848 total time=   0.5s\n",
            "[CV 4/5] END learning_rate=0.3, max_depth=5, n_estimators=500;, score=0.858 total time=   0.5s\n",
            "[CV 5/5] END learning_rate=0.3, max_depth=5, n_estimators=500;, score=0.843 total time=   0.5s\n",
            "[CV 1/5] END learning_rate=0.3, max_depth=6, n_estimators=100;, score=0.809 total time=   0.1s\n",
            "[CV 2/5] END learning_rate=0.3, max_depth=6, n_estimators=100;, score=0.911 total time=   0.1s\n",
            "[CV 3/5] END learning_rate=0.3, max_depth=6, n_estimators=100;, score=0.840 total time=   0.1s\n",
            "[CV 4/5] END learning_rate=0.3, max_depth=6, n_estimators=100;, score=0.865 total time=   0.1s\n",
            "[CV 5/5] END learning_rate=0.3, max_depth=6, n_estimators=100;, score=0.829 total time=   0.1s\n",
            "[CV 1/5] END learning_rate=0.3, max_depth=6, n_estimators=200;, score=0.805 total time=   0.3s\n",
            "[CV 2/5] END learning_rate=0.3, max_depth=6, n_estimators=200;, score=0.908 total time=   0.3s\n",
            "[CV 3/5] END learning_rate=0.3, max_depth=6, n_estimators=200;, score=0.844 total time=   0.3s\n",
            "[CV 4/5] END learning_rate=0.3, max_depth=6, n_estimators=200;, score=0.858 total time=   0.3s\n",
            "[CV 5/5] END learning_rate=0.3, max_depth=6, n_estimators=200;, score=0.840 total time=   0.3s\n",
            "[CV 1/5] END learning_rate=0.3, max_depth=6, n_estimators=300;, score=0.801 total time=   0.4s\n",
            "[CV 2/5] END learning_rate=0.3, max_depth=6, n_estimators=300;, score=0.890 total time=   0.4s\n",
            "[CV 3/5] END learning_rate=0.3, max_depth=6, n_estimators=300;, score=0.855 total time=   0.4s\n",
            "[CV 4/5] END learning_rate=0.3, max_depth=6, n_estimators=300;, score=0.872 total time=   0.4s\n",
            "[CV 5/5] END learning_rate=0.3, max_depth=6, n_estimators=300;, score=0.840 total time=   0.4s\n",
            "[CV 1/5] END learning_rate=0.3, max_depth=6, n_estimators=400;, score=0.805 total time=   0.5s\n",
            "[CV 2/5] END learning_rate=0.3, max_depth=6, n_estimators=400;, score=0.894 total time=   0.5s\n",
            "[CV 3/5] END learning_rate=0.3, max_depth=6, n_estimators=400;, score=0.855 total time=   0.5s\n",
            "[CV 4/5] END learning_rate=0.3, max_depth=6, n_estimators=400;, score=0.869 total time=   0.5s\n",
            "[CV 5/5] END learning_rate=0.3, max_depth=6, n_estimators=400;, score=0.840 total time=   0.5s\n",
            "[CV 1/5] END learning_rate=0.3, max_depth=6, n_estimators=500;, score=0.809 total time=   0.5s\n",
            "[CV 2/5] END learning_rate=0.3, max_depth=6, n_estimators=500;, score=0.890 total time=   0.6s\n",
            "[CV 3/5] END learning_rate=0.3, max_depth=6, n_estimators=500;, score=0.851 total time=   0.6s\n",
            "[CV 4/5] END learning_rate=0.3, max_depth=6, n_estimators=500;, score=0.869 total time=   0.6s\n",
            "[CV 5/5] END learning_rate=0.3, max_depth=6, n_estimators=500;, score=0.836 total time=   0.6s\n",
            "[CV 1/5] END learning_rate=0.3, max_depth=7, n_estimators=100;, score=0.809 total time=   0.2s\n",
            "[CV 2/5] END learning_rate=0.3, max_depth=7, n_estimators=100;, score=0.890 total time=   0.2s\n",
            "[CV 3/5] END learning_rate=0.3, max_depth=7, n_estimators=100;, score=0.826 total time=   0.2s\n",
            "[CV 4/5] END learning_rate=0.3, max_depth=7, n_estimators=100;, score=0.855 total time=   0.2s\n",
            "[CV 5/5] END learning_rate=0.3, max_depth=7, n_estimators=100;, score=0.843 total time=   0.2s\n",
            "[CV 1/5] END learning_rate=0.3, max_depth=7, n_estimators=200;, score=0.809 total time=   0.3s\n",
            "[CV 2/5] END learning_rate=0.3, max_depth=7, n_estimators=200;, score=0.890 total time=   0.3s\n",
            "[CV 3/5] END learning_rate=0.3, max_depth=7, n_estimators=200;, score=0.848 total time=   0.3s\n",
            "[CV 4/5] END learning_rate=0.3, max_depth=7, n_estimators=200;, score=0.862 total time=   0.3s\n",
            "[CV 5/5] END learning_rate=0.3, max_depth=7, n_estimators=200;, score=0.833 total time=   0.3s\n",
            "[CV 1/5] END learning_rate=0.3, max_depth=7, n_estimators=300;, score=0.805 total time=   0.4s\n",
            "[CV 2/5] END learning_rate=0.3, max_depth=7, n_estimators=300;, score=0.894 total time=   0.4s\n",
            "[CV 3/5] END learning_rate=0.3, max_depth=7, n_estimators=300;, score=0.844 total time=   0.4s\n",
            "[CV 4/5] END learning_rate=0.3, max_depth=7, n_estimators=300;, score=0.862 total time=   0.4s\n",
            "[CV 5/5] END learning_rate=0.3, max_depth=7, n_estimators=300;, score=0.840 total time=   0.4s\n",
            "[CV 1/5] END learning_rate=0.3, max_depth=7, n_estimators=400;, score=0.809 total time=   0.5s\n",
            "[CV 2/5] END learning_rate=0.3, max_depth=7, n_estimators=400;, score=0.887 total time=   0.5s\n",
            "[CV 3/5] END learning_rate=0.3, max_depth=7, n_estimators=400;, score=0.844 total time=   0.5s\n",
            "[CV 4/5] END learning_rate=0.3, max_depth=7, n_estimators=400;, score=0.862 total time=   0.5s\n",
            "[CV 5/5] END learning_rate=0.3, max_depth=7, n_estimators=400;, score=0.847 total time=   0.5s\n",
            "[CV 1/5] END learning_rate=0.3, max_depth=7, n_estimators=500;, score=0.812 total time=   0.6s\n",
            "[CV 2/5] END learning_rate=0.3, max_depth=7, n_estimators=500;, score=0.890 total time=   0.6s\n",
            "[CV 3/5] END learning_rate=0.3, max_depth=7, n_estimators=500;, score=0.840 total time=   0.6s\n",
            "[CV 4/5] END learning_rate=0.3, max_depth=7, n_estimators=500;, score=0.865 total time=   0.6s\n",
            "[CV 5/5] END learning_rate=0.3, max_depth=7, n_estimators=500;, score=0.843 total time=   0.6s\n"
          ]
        },
        {
          "output_type": "execute_result",
          "data": {
            "text/plain": [
              "GridSearchCV(estimator=XGBClassifier(),\n",
              "             param_grid={'learning_rate': [0.01, 0.1, 0.2, 0.3],\n",
              "                         'max_depth': [3, 4, 5, 6, 7],\n",
              "                         'n_estimators': [100, 200, 300, 400, 500]},\n",
              "             verbose=3)"
            ]
          },
          "metadata": {},
          "execution_count": 141
        }
      ]
    },
    {
      "cell_type": "code",
      "source": [
        "print('XGBoost accuracy: ', grid.score(x_test, y_test))\n",
        "#print the best parameters\n",
        "print(grid.best_params_)\n",
        "print(grid.best_estimator_)"
      ],
      "metadata": {
        "colab": {
          "base_uri": "https://localhost:8080/"
        },
        "id": "FUYDhVXXlpA8",
        "outputId": "3c0908d9-b564-42e4-9adf-7e84953bf6ee"
      },
      "execution_count": null,
      "outputs": [
        {
          "output_type": "stream",
          "name": "stdout",
          "text": [
            "XGBoost accuracy:  0.830028328611898\n",
            "{'learning_rate': 0.1, 'max_depth': 5, 'n_estimators': 200}\n",
            "XGBClassifier(max_depth=5, n_estimators=200)\n"
          ]
        }
      ]
    },
    {
      "cell_type": "code",
      "source": [],
      "metadata": {
        "id": "X-yR8QfdnKB4"
      },
      "execution_count": null,
      "outputs": []
    }
  ]
}